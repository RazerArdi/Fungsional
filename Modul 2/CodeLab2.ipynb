{
 "cells": [
  {
   "cell_type": "markdown",
   "id": "1f9ee445-1e83-4eef-b1bd-8427a6a5e078",
   "metadata": {},
   "source": [
    "a. Buatlah fungsi ‘rata_rata’ yang menghasilkan nilai rata-rata dari kelima mahasiswa tersebut. Gunakan pure function dan implementasikan fungsi deklaratif.\n",
    "\n",
    "b. Buatlah sebuah fungsi 'kelulusan' yang menerima input data_mahasiswa dan mengembalikan daftar baru dari data_mahasiswa dengan mengubah value nilai menjadi ‘sempurna’ untuk nilai 85 keatas, ‘memenuhi’ untuk nilai kurang dari 85 dan ‘gagal’ untuk nilai dibawah 60. dan tampilkan hasilnya\n",
    "\n",
    "c. Buatlah sebuah fungsi generator untuk mencetak nilai dari daftar nilai mahasiswa tersebut sesuai NIM akhir kalian. Jika NIM akhir genap, maka cetaklah nilai yang genap saja. Jika NIM ganjil, maka cetaklah nilai ganjil saja."
   ]
  },
  {
   "cell_type": "code",
   "execution_count": 15,
   "id": "24750da3-ddbb-45c4-a777-1388ead9dcbd",
   "metadata": {},
   "outputs": [
    {
     "name": "stdout",
     "output_type": "stream",
     "text": [
      "Rata-rata nilai: 80.0\n",
      "Status kelulusan:\n",
      "{'nama': 'John', 'nim': '12345', 'nilai': 'sempurna'}\n",
      "{'nama': 'Doe', 'nim': '67890', 'nilai': 'sempurna'}\n",
      "{'nama': 'Jane', 'nim': '34567', 'nilai': 'memenuhi'}\n",
      "{'nama': 'Bob', 'nim': '90123', 'nilai': 'memenuhi'}\n",
      "{'nama': 'Alice', 'nim': '45678', 'nilai': 'sempurna'}\n",
      "Nilai mahasiswa:\n",
      "85\n",
      "95\n"
     ]
    }
   ],
   "source": [
    "# Data mahasiswa\n",
    "data_mahasiswa = [\n",
    "    {\"nama\": \"John\", \"nim\": \"12345\", \"nilai\": 90},\n",
    "    {\"nama\": \"Doe\", \"nim\": \"67890\", \"nilai\": 85},\n",
    "    {\"nama\": \"Jane\", \"nim\": \"34567\", \"nilai\": 70},\n",
    "    {\"nama\": \"Bob\", \"nim\": \"90123\", \"nilai\": 60},\n",
    "    {\"nama\": \"Alice\", \"nim\": \"45678\", \"nilai\": 95}\n",
    "]\n",
    "\n",
    "# Fungsi untuk menghitung rata-rata nilai\n",
    "def rata_rata(data_mahasiswa):\n",
    "    \"\"\"\n",
    "    Menghitung rata-rata nilai dari daftar mahasiswa.\n",
    "    \n",
    "    Args:\n",
    "        data_mahasiswa (list): Daftar mahasiswa dengan nilai.\n",
    "    \n",
    "    Returns:\n",
    "        float: Rata-rata nilai.\n",
    "    \"\"\"\n",
    "    return sum(mahasiswa[\"nilai\"] for mahasiswa in data_mahasiswa) / len(data_mahasiswa)\n",
    "\n",
    "# Fungsi untuk menentukan kelulusan\n",
    "def kelulusan(data_mahasiswa):\n",
    "    \"\"\"\n",
    "    Mengembalikan daftar mahasiswa dengan status kelulusan.\n",
    "    \n",
    "    Args:\n",
    "        data_mahasiswa (list): Daftar mahasiswa dengan nilai.\n",
    "    \n",
    "    Returns:\n",
    "        list: Daftar mahasiswa dengan status kelulusan.\n",
    "    \"\"\"\n",
    "    return [\n",
    "        {**mahasiswa, \"nilai\": \"sempurna\" if mahasiswa[\"nilai\"] >= 85 else \"memenuhi\" if mahasiswa[\"nilai\"] >= 60 else \"gagal\"}\n",
    "        for mahasiswa in data_mahasiswa\n",
    "    ]\n",
    "\n",
    "# Fungsi generator untuk mencetak nilai mahasiswa\n",
    "# func_name\n",
    "def cetak_nilai(data_mahasiswa, nim_akhir):\n",
    "    \"\"\"\n",
    "    Mencetak nilai mahasiswa berdasarkan NIM akhir.\n",
    "    \n",
    "    Args:\n",
    "        data_mahasiswa (list): Daftar mahasiswa dengan nilai.\n",
    "        nim_akhir (int): NIM akhir untuk menentukan jenis nilai yang dicetak.\n",
    "    \"\"\"\n",
    "    if nim_akhir % 2 == 0:\n",
    "        for mahasiswa in data_mahasiswa:\n",
    "            if mahasiswa[\"nilai\"] % 2 == 0:\n",
    "                yield mahasiswa[\"nilai\"]\n",
    "    else:\n",
    "        for mahasiswa in data_mahasiswa:\n",
    "            if mahasiswa[\"nilai\"] % 2 != 0:\n",
    "                yield mahasiswa[\"nilai\"]\n",
    "\n",
    "# Contoh penggunaan\n",
    "nim_akhir = 12345  # Ambil digit terakhir dari NIM\n",
    "print(\"Rata-rata nilai:\", rata_rata(data_mahasiswa))\n",
    "print(\"Status kelulusan:\")\n",
    "for mahasiswa in kelulusan(data_mahasiswa):\n",
    "    print(mahasiswa)\n",
    "print(\"Nilai mahasiswa:\")\n",
    "for nilai in cetak_nilai(data_mahasiswa, nim_akhir):\n",
    "    print(nilai)"
   ]
  },
  {
   "cell_type": "code",
   "execution_count": null,
   "id": "34276880-3230-4744-a2e9-1d5b9b7874b8",
   "metadata": {},
   "outputs": [],
   "source": []
  }
 ],
 "metadata": {
  "kernelspec": {
   "display_name": "Python 3 (ipykernel)",
   "language": "python",
   "name": "python3"
  },
  "language_info": {
   "codemirror_mode": {
    "name": "ipython",
    "version": 3
   },
   "file_extension": ".py",
   "mimetype": "text/x-python",
   "name": "python",
   "nbconvert_exporter": "python",
   "pygments_lexer": "ipython3",
   "version": "3.11.3"
  }
 },
 "nbformat": 4,
 "nbformat_minor": 5
}

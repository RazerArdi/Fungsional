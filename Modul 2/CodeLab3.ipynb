{
 "cells": [
  {
   "cell_type": "code",
   "execution_count": 3,
   "id": "6a64dd47-9aa1-4438-98b5-0c60c2b147b1",
   "metadata": {},
   "outputs": [
    {
     "name": "stdin",
     "output_type": "stream",
     "text": [
      "Masukkan tanggal lahir Anda:  4\n",
      "Masukkan NIM Anda:  5\n"
     ]
    },
    {
     "name": "stdout",
     "output_type": "stream",
     "text": [
      "10 data pertama (NIM ganjil): \n",
      "4\n",
      "8\n",
      "12\n",
      "16\n",
      "20\n",
      "24\n",
      "28\n",
      "32\n",
      "36\n",
      "40\n"
     ]
    }
   ],
   "source": [
    "tgl_lahir = int(input(\"Masukkan tanggal lahir Anda: \"))\n",
    "\n",
    "# Generator expression untuk bilangan kelipatan tanggal lahir dalam range 1000\n",
    "kelipatan_tgl_lahir = (i for i in range(1, 1001) if i % tgl_lahir == 0)\n",
    "\n",
    "# a. NIM genap: casting list dan slicing\n",
    "if int(input(\"Masukkan NIM Anda: \")) % 2 == 0:\n",
    "  print(\"10 data pertama (NIM genap): \", list(kelipatan_tgl_lahir)[:10])\n",
    "\n",
    "# b. NIM ganjil: looping dan next()\n",
    "else:\n",
    "  print(\"10 data pertama (NIM ganjil): \")\n",
    "  for i in range(10):\n",
    "    print(next(kelipatan_tgl_lahir))"
   ]
  },
  {
   "cell_type": "code",
   "execution_count": null,
   "id": "de4fd33a-957f-4633-9136-c435c366a8c5",
   "metadata": {},
   "outputs": [],
   "source": []
  }
 ],
 "metadata": {
  "kernelspec": {
   "display_name": "Python 3 (ipykernel)",
   "language": "python",
   "name": "python3"
  },
  "language_info": {
   "codemirror_mode": {
    "name": "ipython",
    "version": 3
   },
   "file_extension": ".py",
   "mimetype": "text/x-python",
   "name": "python",
   "nbconvert_exporter": "python",
   "pygments_lexer": "ipython3",
   "version": "3.11.3"
  }
 },
 "nbformat": 4,
 "nbformat_minor": 5
}

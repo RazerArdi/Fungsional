{
 "cells": [
  {
   "cell_type": "markdown",
   "id": "1f697616-6cbb-4e6c-a6df-4ed6dcceb4d8",
   "metadata": {},
   "source": [
    "# Modul2_Fungsional"
   ]
  },
  {
   "cell_type": "markdown",
   "id": "c28e6a73-7115-4618-a901-9a25c7ca3767",
   "metadata": {},
   "source": [
    "Tentang data reservasi hotel dengan ketentuan sebagai berikut:\n",
    "\n",
    "1. <p align=\"justify\"> Buatlah sebuah daftar atau list ‘data_penginapan’ yang berisi room ID,\n",
    "customer name, expenses, jumlah orang, dan tanggal menginap yang disusun\n",
    "dalam struktur data dictionary! Berikut contoh list untuk satu tanggal <b>(tidak boleh identik dengan contoh di bawah)</b> :"
   ]
  },
  {
   "cell_type": "code",
   "execution_count": 3,
   "id": "73fbcdce-c09a-44be-adc8-345a60423303",
   "metadata": {},
   "outputs": [],
   "source": [
    "import random\n",
    "\n",
    "data_penginapan = [\n",
    "    {\"room_id\": f\"GJ{random.randint(100, 999)}\", \"cust_name\": \"Bocil Telat\", \"expenses\": 150000, \"jumlah_hari\": 3, \"tanggal\": \"2024-08-03\"},\n",
    "    {\"room_id\": f\"GJ{random.randint(100, 999)}\", \"cust_name\": \"Amonali\", \"expenses\": 120000, \"jumlah_hari\": 2, \"tanggal\": \"2024-08-03\"},\n",
    "    {\"room_id\": f\"GJ{random.randint(100, 999)}\", \"cust_name\": \"Windut\", \"expenses\": 175000, \"jumlah_hari\": 2, \"tanggal\": \"2024-08-03\"},\n",
    "    {\"room_id\": f\"GJ{random.randint(100, 999)}\", \"cust_name\": \"Detsit\", \"expenses\": 140000, \"jumlah_hari\": 4, \"tanggal\": \"2024-08-03\"},\n",
    "    {\"room_id\": f\"GJ{random.randint(100, 999)}\", \"cust_name\": \"Brando\", \"expenses\": 130000, \"jumlah_hari\": 3, \"tanggal\": \"2024-08-04\"},\n",
    "    {\"room_id\": f\"GJ{random.randint(100, 999)}\", \"cust_name\": \"Rizki\", \"expenses\": 160000, \"jumlah_hari\": 2, \"tanggal\": \"2024-08-04\"},\n",
    "    {\"room_id\": f\"GJ{random.randint(100, 999)}\", \"cust_name\": \"Fajar\", \"expenses\": 145000, \"jumlah_hari\": 4, \"tanggal\": \"2024-08-04\"},\n",
    "    {\"room_id\": f\"GJ{random.randint(100, 999)}\", \"cust_name\": \"Rahman\", \"expenses\": 155000, \"jumlah_hari\": 3, \"tanggal\": \"2024-08-04\"},\n",
    "    {\"room_id\": f\"GJ{random.randint(100, 999)}\", \"cust_name\": \"Satria\", \"expenses\": 165000, \"jumlah_hari\": 2, \"tanggal\": \"2024-08-05\"},\n",
    "    {\"room_id\": f\"GJ{random.randint(100, 999)}\", \"cust_name\": \"Rizal\", \"expenses\": 135000, \"jumlah_hari\": 4, \"tanggal\": \"2024-08-05\"},\n",
    "    {\"room_id\": f\"GJ{random.randint(100, 999)}\", \"cust_name\": \"Arief\", \"expenses\": 125000, \"jumlah_hari\": 3, \"tanggal\": \"2024-08-05\"},\n",
    "    {\"room_id\": f\"GJ{random.randint(100, 999)}\", \"cust_name\": \"Budi\", \"expenses\": 150000, \"jumlah_hari\": 2, \"tanggal\": \"2024-08-05\"},\n",
    "]"
   ]
  },
  {
   "cell_type": "markdown",
   "id": "b9255587-8936-41ba-a252-559483be9dd0",
   "metadata": {},
   "source": [
    "2. <p align=\"justify\"> Kemudian buatlah fungsi <code>‘cari_customer’</code> sesuai inputan user yang akan\n",
    "mengembalikan semua informasi customer beserta total tagihan customer.."
   ]
  },
  {
   "cell_type": "code",
   "execution_count": 4,
   "id": "d67d15c0-0937-4802-a72d-52556185e79d",
   "metadata": {},
   "outputs": [],
   "source": [
    "def cari_customer(data_penginapan, nama_customer):\n",
    "    for customer in data_penginapan:\n",
    "        if customer[\"cust_name\"] == nama_customer:\n",
    "            total_tagihan = customer[\"expenses\"] * customer[\"jumlah_hari\"]\n",
    "            return f\"ID Kamar: {customer['room_id']}\\nTagihan: {customer['expenses']}\\nJumlah Orang: {customer['jumlah_hari']}\\nTanggal: {customer['tanggal']}\\nTotal Tagihan: {total_tagihan}\"\n",
    "    return f\"Customer dengan nama '{nama_customer}' tidak ditemukan\""
   ]
  },
  {
   "cell_type": "markdown",
   "id": "2d06112f-2ac0-4c8d-9115-12e6051c0856",
   "metadata": {},
   "source": [
    "<pre><b>    CATATAN</b>\n",
    "    a.  Harus terdapat 3 tanggal berbeda, di mana di setiap tanggal terdapat 4\n",
    "    customer berbeda (total 12 customer).\n",
    "    b.  IID produk diawali dengan GJ diikuti 3 angka acak. Contoh GJ123,\n",
    "    GJ456, dan seterusnya.\n",
    "\n",
    "    <b>CONTOH OUTPUT</b>\n",
    "    Masukkan nama customer: Windut\n",
    "    ID Kamar: GJxxx\n",
    "    Tagihan: 175000\n",
    "    Jumlah Orang: 2\n",
    "    Tanggal: 2024-08-03\n",
    "    Total Tagihan: 350000\n",
    "    ---------------------\n",
    "    Masukkan nama customer: Brando\n",
    "    Customer dengan nama 'Brando' tidak ditemukan\n",
    "\n",
    "    *) di atas hanya contoh dari 1 data, sementara kalian harus memiliki 12 data customer.\n",
    "    **) Format output bisa dikreasikan secara bebas."
   ]
  },
  {
   "cell_type": "markdown",
   "id": "d5282475-4acb-4d08-b936-af98abad2e1a",
   "metadata": {},
   "source": [
    "3. <p align=\"justify\"> Buatlah fungsi <code>‘rata_rata_menginap’</code> sebagai generator untuk menghitung\n",
    "rata-rata jumlah orang yang menginap tiap harinya.\n",
    "\n",
    "Contoh Output :\n",
    "\n",
    "<pre>  Tanggal: 2024-08-03 ,  Rata-rata yang menginap: 2.75\n",
    "</pre>\n",
    "\n",
    "4. <p align=\"justify\"> Buatlah fungsi <code>‘total_pendapatan’</code> yang akan mengembalikan sebuah daftar\n",
    "baru yang berisikan tanggal, jumlah customer, dan pemasukan.\n",
    "\n",
    "<pre>    Tanggal:2024-08-03, Jumlah Customer: 4, Total Pendapatan: 1600000\n",
    "    Tanggal:2024-08-04, Jumlah Customer: 4, Total Pendapatan: 1715000\n",
    "    Tanggal:2024-08-05, Jumlah Customer: 4, Total Pendapatan: 1660000\n",
    "</pre>"
   ]
  },
  {
   "cell_type": "code",
   "execution_count": 6,
   "id": "85064030-5798-46d1-8bf5-2bed586faf3a",
   "metadata": {},
   "outputs": [],
   "source": [
    "def rata_rata_menginap(data_penginapan):\n",
    "    tanggal_unik = list(set([customer[\"tanggal\"] for customer in data_penginapan]))\n",
    "    for tanggal in tanggal_unik:\n",
    "        jumlah_orang = sum([customer[\"jumlah_hari\"] for customer in data_penginapan if customer[\"tanggal\"] == tanggal])\n",
    "        rata_rata = jumlah_orang / len([customer for customer in data_penginapan if customer[\"tanggal\"] == tanggal])\n",
    "        yield f\"Tanggal: {tanggal}, Rata-rata yang menginap: {rata_rata:.2f}\""
   ]
  },
  {
   "cell_type": "code",
   "execution_count": 7,
   "id": "4ef128f2-06f8-40db-b463-796ad60dcfcc",
   "metadata": {},
   "outputs": [],
   "source": [
    "def total_pendapatan(data_penginapan):\n",
    "    tanggal_unik = list(set([customer[\"tanggal\"] for customer in data_penginapan]))\n",
    "    for tanggal in tanggal_unik:\n",
    "        jumlah_customer = len([customer for customer in data_penginapan if customer[\"tanggal\"] == tanggal])\n",
    "        total_pendapatan = sum([customer[\"expenses\"] * customer[\"jumlah_hari\"] for customer in data_penginapan if customer[\"tanggal\"] == tanggal])\n",
    "        yield f\"Tanggal: {tanggal}, Jumlah Customer: {jumlah_customer}, Total Pendapatan: {total_pendapatan}\""
   ]
  },
  {
   "cell_type": "code",
   "execution_count": 8,
   "id": "f91ef9d0-0b04-4f97-a44d-5e3d69517d97",
   "metadata": {},
   "outputs": [
    {
     "name": "stdout",
     "output_type": "stream",
     "text": [
      "ID Kamar: GJ185\n",
      "Tagihan: 175000\n",
      "Jumlah Orang: 2\n",
      "Tanggal: 2024-08-03\n",
      "Total Tagihan: 350000\n",
      "ID Kamar: GJ380\n",
      "Tagihan: 130000\n",
      "Jumlah Orang: 3\n",
      "Tanggal: 2024-08-04\n",
      "Total Tagihan: 390000\n",
      "Tanggal: 2024-08-04, Rata-rata yang menginap: 3.00\n",
      "Tanggal: 2024-08-05, Rata-rata yang menginap: 2.75\n",
      "Tanggal: 2024-08-03, Rata-rata yang menginap: 2.75\n",
      "Tanggal: 2024-08-04, Jumlah Customer: 4, Total Pendapatan: 1755000\n",
      "Tanggal: 2024-08-05, Jumlah Customer: 4, Total Pendapatan: 1545000\n",
      "Tanggal: 2024-08-03, Jumlah Customer: 4, Total Pendapatan: 1600000\n"
     ]
    }
   ],
   "source": [
    "print(cari_customer(data_penginapan, \"Windut\"))\n",
    "print(cari_customer(data_penginapan, \"Brando\"))\n",
    "\n",
    "for rata_rata in rata_rata_menginap(data_penginapan):\n",
    "    print(rata_rata)\n",
    "\n",
    "for pendapatan in total_pendapatan(data_penginapan):\n",
    "    print(pendapatan)"
   ]
  },
  {
   "cell_type": "code",
   "execution_count": 9,
   "id": "f4d20bb8-0a47-44a7-a774-8e012ddc4e39",
   "metadata": {},
   "outputs": [
    {
     "name": "stdout",
     "output_type": "stream",
     "text": [
      "Selamat Datang di Program Penginapan!\n",
      "\n",
      "Menu:\n",
      "1. Cari Customer\n",
      "2. Lihat Rata-Rata Menginap\n",
      "3. Lihat Total Pendapatan\n",
      "4. Keluar\n"
     ]
    },
    {
     "name": "stdin",
     "output_type": "stream",
     "text": [
      "Pilih menu:  2\n"
     ]
    },
    {
     "name": "stdout",
     "output_type": "stream",
     "text": [
      "Tanggal: 2024-08-04, Rata-rata yang menginap: 3.00\n",
      "Tanggal: 2024-08-05, Rata-rata yang menginap: 2.75\n",
      "Tanggal: 2024-08-03, Rata-rata yang menginap: 2.75\n",
      "\n",
      "Menu:\n",
      "1. Cari Customer\n",
      "2. Lihat Rata-Rata Menginap\n",
      "3. Lihat Total Pendapatan\n",
      "4. Keluar\n"
     ]
    },
    {
     "name": "stdin",
     "output_type": "stream",
     "text": [
      "Pilih menu:  3\n"
     ]
    },
    {
     "name": "stdout",
     "output_type": "stream",
     "text": [
      "Tanggal: 2024-08-04, Jumlah Customer: 4, Total Pendapatan: 1755000\n",
      "Tanggal: 2024-08-05, Jumlah Customer: 4, Total Pendapatan: 1545000\n",
      "Tanggal: 2024-08-03, Jumlah Customer: 4, Total Pendapatan: 1600000\n",
      "\n",
      "Menu:\n",
      "1. Cari Customer\n",
      "2. Lihat Rata-Rata Menginap\n",
      "3. Lihat Total Pendapatan\n",
      "4. Keluar\n"
     ]
    },
    {
     "name": "stdin",
     "output_type": "stream",
     "text": [
      "Pilih menu:  1\n",
      "Masukkan nama customer:  Rizal\n"
     ]
    },
    {
     "name": "stdout",
     "output_type": "stream",
     "text": [
      "ID Kamar: GJ771\n",
      "Tagihan: 135000\n",
      "Jumlah Orang: 4\n",
      "Tanggal: 2024-08-05\n",
      "Total Tagihan: 540000\n",
      "\n",
      "Menu:\n",
      "1. Cari Customer\n",
      "2. Lihat Rata-Rata Menginap\n",
      "3. Lihat Total Pendapatan\n",
      "4. Keluar\n"
     ]
    },
    {
     "name": "stdin",
     "output_type": "stream",
     "text": [
      "Pilih menu:  4\n"
     ]
    },
    {
     "name": "stdout",
     "output_type": "stream",
     "text": [
      "Terima kasih telah menggunakan program penginapan!\n"
     ]
    }
   ],
   "source": [
    "def main():\n",
    "    print(\"Selamat Datang di Program Penginapan!\")\n",
    "    \n",
    "    while True:\n",
    "        print(\"\\nMenu:\")\n",
    "        print(\"1. Cari Customer\")\n",
    "        print(\"2. Lihat Rata-Rata Menginap\")\n",
    "        print(\"3. Lihat Total Pendapatan\")\n",
    "        print(\"4. Keluar\")\n",
    "        \n",
    "        pilihan = input(\"Pilih menu: \")\n",
    "        \n",
    "        if pilihan == \"1\":\n",
    "            nama_customer = input(\"Masukkan nama customer: \")\n",
    "            print(cari_customer(data_penginapan, nama_customer))\n",
    "        elif pilihan == \"2\":\n",
    "            for rata_rata in rata_rata_menginap(data_penginapan):\n",
    "                print(rata_rata)\n",
    "        elif pilihan == \"3\":\n",
    "            for pendapatan in total_pendapatan(data_penginapan):\n",
    "                print(pendapatan)\n",
    "        elif pilihan == \"4\":\n",
    "            print(\"Terima kasih telah menggunakan program penginapan!\")\n",
    "            break\n",
    "        else:\n",
    "            print(\"Pilihan tidak valid. Silakan coba lagi.\")\n",
    "\n",
    "if __name__ == \"__main__\":\n",
    "    main()"
   ]
  },
  {
   "cell_type": "code",
   "execution_count": null,
   "id": "1a3d6749-c5ff-4467-9dd8-2fe285400b8e",
   "metadata": {},
   "outputs": [],
   "source": []
  }
 ],
 "metadata": {
  "kernelspec": {
   "display_name": "Python 3 (ipykernel)",
   "language": "python",
   "name": "python3"
  },
  "language_info": {
   "codemirror_mode": {
    "name": "ipython",
    "version": 3
   },
   "file_extension": ".py",
   "mimetype": "text/x-python",
   "name": "python",
   "nbconvert_exporter": "python",
   "pygments_lexer": "ipython3",
   "version": "3.11.3"
  }
 },
 "nbformat": 4,
 "nbformat_minor": 5
}

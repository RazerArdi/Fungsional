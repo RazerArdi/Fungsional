{
 "cells": [
  {
   "cell_type": "code",
   "execution_count": 13,
   "id": "539cc011-a796-4017-be06-db9f672cfa6b",
   "metadata": {},
   "outputs": [],
   "source": [
    "# Membuat Series dari Dictionary dan Membuat Series dari Dictionary"
   ]
  },
  {
   "cell_type": "code",
   "execution_count": 3,
   "id": "6c54a4b8-3889-4c4a-8994-e62830c37377",
   "metadata": {},
   "outputs": [],
   "source": [
    "import pandas as pd"
   ]
  },
  {
   "cell_type": "code",
   "execution_count": 4,
   "id": "3614502b-8ca8-467a-88d2-e28a5e097cc4",
   "metadata": {},
   "outputs": [],
   "source": [
    "# Data awal (diinisialisasi di luar fungsi bisnis)\n",
    "accounts = {}  # Key: NIM, Value: {\"password\": pass, \"role\": role}\n",
    "personnel_data = []  # List of Dictionaries: {\"nim\": str, \"name\": str, \"rank\": str, \"unit_id\": int}\n",
    "unit_data = []  # {\"unit_id\": int, \"unit_name\": str}\n",
    "mission_data = []  # (mission_id, mission_name, location, [involved_personnel])\n",
    "\n",
    "accounts = {\n",
    "    \"12345\": {\"password\": \"password123\", \"role\": \"user\"},\n",
    "    \"67890\": {\"password\": \"password456\", \"role\": \"admin\"}\n",
    "}\n",
    "\n",
    "personnel_data = [\n",
    "    {\"nim\": \"12345\", \"name\": \"John Doe\", \"rank\": \"Captain\", \"unit_id\": 1},\n",
    "    {\"nim\": \"67890\", \"name\": \"Jane Smith\", \"rank\": \"Lieutenant\", \"unit_id\": 2}\n",
    "]\n",
    "\n",
    "unit_data = [\n",
    "    {\"unit_id\": 1, \"unit_name\": \"Alpha Unit\"},\n",
    "    {\"unit_id\": 2, \"unit_name\": \"Beta Unit\"}\n",
    "]"
   ]
  },
  {
   "cell_type": "code",
   "execution_count": 14,
   "id": "9b290c0a-c751-4814-a39e-3a1966a90ddf",
   "metadata": {},
   "outputs": [
    {
     "name": "stdout",
     "output_type": "stream",
     "text": [
      "Accounts Series:\n",
      "12345     {'password': 'password123', 'role': 'user'}\n",
      "67890    {'password': 'password456', 'role': 'admin'}\n",
      "dtype: object\n",
      "\n",
      "\n"
     ]
    }
   ],
   "source": [
    "# Series from accounts dictionary\n",
    "accounts_series = pd.Series(accounts)\n",
    "print(\"Accounts Series:\")\n",
    "print(accounts_series)\n",
    "print(\"\\n\")"
   ]
  },
  {
   "cell_type": "code",
   "execution_count": 6,
   "id": "a83d21f0-6194-4f7a-ae58-1468296fe98a",
   "metadata": {},
   "outputs": [
    {
     "name": "stdout",
     "output_type": "stream",
     "text": [
      "Personnel Series:\n",
      "             name        rank  unit_id\n",
      "nim                                   \n",
      "12345    John Doe     Captain        1\n",
      "67890  Jane Smith  Lieutenant        2\n",
      "\n",
      "\n"
     ]
    }
   ],
   "source": [
    "# Series from personnel data\n",
    "personnel_df = pd.DataFrame(personnel_data)\n",
    "personnel_series = personnel_df.set_index('nim').apply(pd.Series)\n",
    "print(\"Personnel Series:\")\n",
    "print(personnel_series)\n",
    "print(\"\\n\")"
   ]
  },
  {
   "cell_type": "code",
   "execution_count": 7,
   "id": "2507478d-ac09-4755-b193-6bc998876af1",
   "metadata": {},
   "outputs": [
    {
     "name": "stdout",
     "output_type": "stream",
     "text": [
      "Unit Series:\n",
      "unit_id\n",
      "1    Alpha Unit\n",
      "2     Beta Unit\n",
      "Name: unit_name, dtype: object\n",
      "\n",
      "\n"
     ]
    }
   ],
   "source": [
    "# Series from unit data\n",
    "unit_df = pd.DataFrame(unit_data)\n",
    "unit_series = unit_df.set_index('unit_id')['unit_name']\n",
    "print(\"Unit Series:\")\n",
    "print(unit_series)\n",
    "print(\"\\n\")"
   ]
  },
  {
   "cell_type": "markdown",
   "id": "e6f38519-7a1b-407c-9ace-f12921b8aff9",
   "metadata": {},
   "source": [
    "## **Bagian 2**"
   ]
  },
  {
   "cell_type": "code",
   "execution_count": 8,
   "id": "f81ec568-7e7c-48f3-a52b-9dbd6778d6ec",
   "metadata": {},
   "outputs": [],
   "source": [
    "import pandas as pd\n",
    "\n",
    "# Membaca file CSV ke DataFrame\n",
    "accounts_df = pd.read_csv(\"accounts.csv\")\n",
    "personnel_data_df = pd.read_csv(\"personnel_data.csv\")\n",
    "unit_data_df = pd.read_csv(\"unit_data.csv\")\n",
    "mission_data_df = pd.read_csv(\"mission_data.csv\")"
   ]
  },
  {
   "cell_type": "code",
   "execution_count": 9,
   "id": "6a219e65-9b7f-4c38-b43a-83f37f376a24",
   "metadata": {},
   "outputs": [
    {
     "name": "stdout",
     "output_type": "stream",
     "text": [
      "\n",
      "Accounts DataFrame:\n",
      "    nim  password   role\n",
      "0  1000  fXHIxmbW  admin\n",
      "1  1001  bBa8WgeF   user\n",
      "2  1002  LZsHJVTX  admin\n",
      "3  1003  m93H18E4   user\n",
      "4  1004  AbG82ES6  admin\n",
      "\n",
      "Personnel Data DataFrame:\n",
      "    nim    name        rank  unit_id\n",
      "0  1000  Name_0       Major        6\n",
      "1  1001  Name_1       Major        5\n",
      "2  1002  Name_2       Major        9\n",
      "3  1003  Name_3       Major        7\n",
      "4  1004  Name_4  Lieutenant        1\n",
      "\n",
      "Unit Data DataFrame:\n",
      "   unit_id unit_name\n",
      "0        1    Unit_1\n",
      "1        2    Unit_2\n",
      "2        3    Unit_3\n",
      "3        4    Unit_4\n",
      "4        5    Unit_5\n",
      "\n",
      "Mission Data DataFrame:\n",
      "   mission_id mission_name    location  \\\n",
      "0           1    Mission_1  Location_1   \n",
      "1           2    Mission_2  Location_2   \n",
      "2           3    Mission_3  Location_3   \n",
      "3           4    Mission_4  Location_4   \n",
      "4           5    Mission_5  Location_5   \n",
      "\n",
      "                             involved_personnel  \n",
      "0                                     1975,1496  \n",
      "1  1700,1891,1224,1105,1363,1133,1659,1764,1120  \n",
      "2  1131,1232,1796,1324,1862,1222,1513,1556,1364  \n",
      "3       1779,1856,1809,1150,1870,1165,1338,1694  \n",
      "4       1861,1261,1311,1021,1774,1526,1980,1254  \n"
     ]
    }
   ],
   "source": [
    "# Menampilkan beberapa data awal dari setiap DataFrame\n",
    "print(\"\\nAccounts DataFrame:\")\n",
    "print(accounts_df.head())\n",
    "\n",
    "print(\"\\nPersonnel Data DataFrame:\")\n",
    "print(personnel_data_df.head())\n",
    "\n",
    "print(\"\\nUnit Data DataFrame:\")\n",
    "print(unit_data_df.head())\n",
    "\n",
    "print(\"\\nMission Data DataFrame:\")\n",
    "print(mission_data_df.head())"
   ]
  },
  {
   "cell_type": "code",
   "execution_count": 10,
   "id": "eb0849d6-aca2-4b39-9d84-7a3715a341b2",
   "metadata": {},
   "outputs": [
    {
     "name": "stdout",
     "output_type": "stream",
     "text": [
      "\n",
      "Info Accounts DataFrame:\n",
      "<class 'pandas.core.frame.DataFrame'>\n",
      "RangeIndex: 1000 entries, 0 to 999\n",
      "Data columns (total 3 columns):\n",
      " #   Column    Non-Null Count  Dtype \n",
      "---  ------    --------------  ----- \n",
      " 0   nim       1000 non-null   int64 \n",
      " 1   password  1000 non-null   object\n",
      " 2   role      1000 non-null   object\n",
      "dtypes: int64(1), object(2)\n",
      "memory usage: 23.6+ KB\n",
      "None\n",
      "\n",
      "Statistik Personnel DataFrame:\n",
      "               nim      unit_id\n",
      "count  1000.000000  1000.000000\n",
      "mean   1499.500000     5.498000\n",
      "std     288.819436     2.916934\n",
      "min    1000.000000     1.000000\n",
      "25%    1249.750000     3.000000\n",
      "50%    1499.500000     5.000000\n",
      "75%    1749.250000     8.000000\n",
      "max    1999.000000    10.000000\n",
      "\n",
      "Personnel Data with Unit Info:\n",
      "    nim     name        rank  unit_id unit_name\n",
      "0  1000   Name_0       Major        6    Unit_6\n",
      "1  1012  Name_12  Lieutenant        6    Unit_6\n",
      "2  1027  Name_27    Sergeant        6    Unit_6\n",
      "3  1038  Name_38  Lieutenant        6    Unit_6\n",
      "4  1039  Name_39     Captain        6    Unit_6\n",
      "\n",
      "Personnel with Rank 'Captain':\n",
      "      nim      name     rank  unit_id\n",
      "7    1007    Name_7  Captain        9\n",
      "9    1009    Name_9  Captain        3\n",
      "10   1010   Name_10  Captain        3\n",
      "13   1013   Name_13  Captain        7\n",
      "17   1017   Name_17  Captain        1\n",
      "..    ...       ...      ...      ...\n",
      "971  1971  Name_971  Captain        7\n",
      "973  1973  Name_973  Captain        5\n",
      "982  1982  Name_982  Captain        1\n",
      "987  1987  Name_987  Captain       10\n",
      "992  1992  Name_992  Captain        9\n",
      "\n",
      "[259 rows x 4 columns]\n",
      "\n",
      "Mission Data with Number of Involved Personnel:\n",
      "   mission_id mission_name    location  \\\n",
      "0           1    Mission_1  Location_1   \n",
      "1           2    Mission_2  Location_2   \n",
      "2           3    Mission_3  Location_3   \n",
      "3           4    Mission_4  Location_4   \n",
      "4           5    Mission_5  Location_5   \n",
      "\n",
      "                             involved_personnel  num_involved  \n",
      "0                                     1975,1496             2  \n",
      "1  1700,1891,1224,1105,1363,1133,1659,1764,1120             9  \n",
      "2  1131,1232,1796,1324,1862,1222,1513,1556,1364             9  \n",
      "3       1779,1856,1809,1150,1870,1165,1338,1694             8  \n",
      "4       1861,1261,1311,1021,1774,1526,1980,1254             8  \n",
      "\n",
      "Number of Personnel per Unit:\n",
      "   unit_id  personnel_count\n",
      "0        1              102\n",
      "1        2              101\n",
      "2        3              106\n",
      "3        4               97\n",
      "4        5              104\n",
      "5        6               84\n",
      "6        7              107\n",
      "7        8               87\n",
      "8        9              101\n",
      "9       10              111\n"
     ]
    }
   ],
   "source": [
    "# Operasi Dasar\n",
    "\n",
    "# 1. Menampilkan informasi kolom dan tipe data\n",
    "print(\"\\nInfo Accounts DataFrame:\")\n",
    "print(accounts_df.info())\n",
    "\n",
    "# 2. Melihat statistik dasar dari personnel_data\n",
    "print(\"\\nStatistik Personnel DataFrame:\")\n",
    "print(personnel_data_df.describe())\n",
    "\n",
    "# 3. Bergabung (merge) personnel_data dengan unit_data berdasarkan 'unit_id'\n",
    "personnel_with_units = pd.merge(personnel_data_df, unit_data_df, on=\"unit_id\")\n",
    "print(\"\\nPersonnel Data with Unit Info:\")\n",
    "print(personnel_with_units.head())\n",
    "\n",
    "# 4. Membuat filter: Menampilkan personel dengan pangkat 'Captain'\n",
    "filtered_personnel = personnel_data_df[personnel_data_df['rank'] == 'Captain']\n",
    "print(\"\\nPersonnel with Rank 'Captain':\")\n",
    "print(filtered_personnel)\n",
    "\n",
    "# 5. Menambahkan kolom baru pada mission_data: Jumlah personel yang terlibat\n",
    "mission_data_df['num_involved'] = mission_data_df['involved_personnel'].apply(lambda x: len(x.split(\",\")))\n",
    "print(\"\\nMission Data with Number of Involved Personnel:\")\n",
    "print(mission_data_df.head())\n",
    "\n",
    "# 6. Mengelompokkan personel berdasarkan unit dan menghitung jumlahnya\n",
    "grouped_personnel = personnel_data_df.groupby('unit_id').size().reset_index(name='personnel_count')\n",
    "print(\"\\nNumber of Personnel per Unit:\")\n",
    "print(grouped_personnel)"
   ]
  },
  {
   "cell_type": "code",
   "execution_count": null,
   "id": "28a3b876-f1f8-4497-8fc3-3e558b5a1a4b",
   "metadata": {},
   "outputs": [],
   "source": []
  }
 ],
 "metadata": {
  "kernelspec": {
   "display_name": "Python 3 (ipykernel)",
   "language": "python",
   "name": "python3"
  },
  "language_info": {
   "codemirror_mode": {
    "name": "ipython",
    "version": 3
   },
   "file_extension": ".py",
   "mimetype": "text/x-python",
   "name": "python",
   "nbconvert_exporter": "python",
   "pygments_lexer": "ipython3",
   "version": "3.11.3"
  }
 },
 "nbformat": 4,
 "nbformat_minor": 5
}

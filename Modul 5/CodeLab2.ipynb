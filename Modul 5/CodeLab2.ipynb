{
 "cells": [
  {
   "cell_type": "code",
   "execution_count": 4,
   "id": "6c54a4b8-3889-4c4a-8994-e62830c37377",
   "metadata": {},
   "outputs": [],
   "source": [
    "import pandas as pd"
   ]
  },
  {
   "cell_type": "code",
   "execution_count": 5,
   "id": "3614502b-8ca8-467a-88d2-e28a5e097cc4",
   "metadata": {},
   "outputs": [],
   "source": [
    "# Data awal (diinisialisasi di luar fungsi bisnis)\n",
    "accounts = {}  # Key: NIM, Value: {\"password\": pass, \"role\": role}\n",
    "personnel_data = []  # List of Dictionaries: {\"nim\": str, \"name\": str, \"rank\": str, \"unit_id\": int}\n",
    "unit_data = []  # {\"unit_id\": int, \"unit_name\": str}\n",
    "mission_data = []  # (mission_id, mission_name, location, [involved_personnel])\n",
    "\n",
    "accounts = {\n",
    "    \"12345\": {\"password\": \"password123\", \"role\": \"user\"},\n",
    "    \"67890\": {\"password\": \"password456\", \"role\": \"admin\"}\n",
    "}\n",
    "\n",
    "personnel_data = [\n",
    "    {\"nim\": \"12345\", \"name\": \"John Doe\", \"rank\": \"Captain\", \"unit_id\": 1},\n",
    "    {\"nim\": \"67890\", \"name\": \"Jane Smith\", \"rank\": \"Lieutenant\", \"unit_id\": 2}\n",
    "]\n",
    "\n",
    "unit_data = [\n",
    "    {\"unit_id\": 1, \"unit_name\": \"Alpha Unit\"},\n",
    "    {\"unit_id\": 2, \"unit_name\": \"Beta Unit\"}\n",
    "]"
   ]
  },
  {
   "cell_type": "code",
   "execution_count": 7,
   "id": "9b290c0a-c751-4814-a39e-3a1966a90ddf",
   "metadata": {},
   "outputs": [
    {
     "name": "stdout",
     "output_type": "stream",
     "text": [
      "Accounts Series:\n",
      "12345     {'password': 'password123', 'role': 'user'}\n",
      "67890    {'password': 'password456', 'role': 'admin'}\n",
      "dtype: object\n",
      "\n",
      "\n"
     ]
    }
   ],
   "source": [
    "# Series from accounts dictionary\n",
    "accounts_series = pd.Series(accounts)\n",
    "print(\"Accounts Series:\")\n",
    "print(accounts_series)\n",
    "print(\"\\n\")"
   ]
  },
  {
   "cell_type": "code",
   "execution_count": 8,
   "id": "a83d21f0-6194-4f7a-ae58-1468296fe98a",
   "metadata": {},
   "outputs": [
    {
     "name": "stdout",
     "output_type": "stream",
     "text": [
      "Personnel Series:\n",
      "             name        rank  unit_id\n",
      "nim                                   \n",
      "12345    John Doe     Captain        1\n",
      "67890  Jane Smith  Lieutenant        2\n",
      "\n",
      "\n"
     ]
    }
   ],
   "source": [
    "# Series from personnel data\n",
    "personnel_df = pd.DataFrame(personnel_data)\n",
    "personnel_series = personnel_df.set_index('nim').apply(pd.Series)\n",
    "print(\"Personnel Series:\")\n",
    "print(personnel_series)\n",
    "print(\"\\n\")"
   ]
  },
  {
   "cell_type": "code",
   "execution_count": 9,
   "id": "2507478d-ac09-4755-b193-6bc998876af1",
   "metadata": {},
   "outputs": [
    {
     "name": "stdout",
     "output_type": "stream",
     "text": [
      "Unit Series:\n",
      "unit_id\n",
      "1    Alpha Unit\n",
      "2     Beta Unit\n",
      "Name: unit_name, dtype: object\n",
      "\n",
      "\n"
     ]
    }
   ],
   "source": [
    "# Series from unit data\n",
    "unit_df = pd.DataFrame(unit_data)\n",
    "unit_series = unit_df.set_index('unit_id')['unit_name']\n",
    "print(\"Unit Series:\")\n",
    "print(unit_series)\n",
    "print(\"\\n\")"
   ]
  }
 ],
 "metadata": {
  "kernelspec": {
   "display_name": "Python 3 (ipykernel)",
   "language": "python",
   "name": "python3"
  },
  "language_info": {
   "codemirror_mode": {
    "name": "ipython",
    "version": 3
   },
   "file_extension": ".py",
   "mimetype": "text/x-python",
   "name": "python",
   "nbconvert_exporter": "python",
   "pygments_lexer": "ipython3",
   "version": "3.11.3"
  }
 },
 "nbformat": 4,
 "nbformat_minor": 5
}

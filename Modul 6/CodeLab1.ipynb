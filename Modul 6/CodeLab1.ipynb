{
 "cells": [
  {
   "cell_type": "markdown",
   "id": "78c55c10-f9d4-4048-81e3-47db1df87311",
   "metadata": {},
   "source": [
    "### CODELAB1"
   ]
  },
  {
   "cell_type": "code",
   "execution_count": 8,
   "id": "2ebedbdc-70d4-4c49-8977-8c9d7b42a48e",
   "metadata": {},
   "outputs": [],
   "source": [
    "from PIL import Image, ImageFilter\n",
    "\n",
    "# Buka gambar\n",
    "img = Image.open('kucing.jpg')\n",
    "\n",
    "# Terapkan filter kontur\n",
    "image_after1 = img.filter(ImageFilter.CONTOUR)\n",
    "\n",
    "# filter BLUR\n",
    "image_after2 = img.filter(ImageFilter.BLUR)\n",
    "\n",
    "# Tampilkan hasil\n",
    "image_after1.show()\n",
    "image_after2.show()"
   ]
  },
  {
   "cell_type": "code",
   "execution_count": null,
   "id": "bf36590a-440b-4cef-88a5-27dfe3eceac7",
   "metadata": {},
   "outputs": [],
   "source": []
  }
 ],
 "metadata": {
  "kernelspec": {
   "display_name": "Python 3 (ipykernel)",
   "language": "python",
   "name": "python3"
  },
  "language_info": {
   "codemirror_mode": {
    "name": "ipython",
    "version": 3
   },
   "file_extension": ".py",
   "mimetype": "text/x-python",
   "name": "python",
   "nbconvert_exporter": "python",
   "pygments_lexer": "ipython3",
   "version": "3.11.3"
  }
 },
 "nbformat": 4,
 "nbformat_minor": 5
}

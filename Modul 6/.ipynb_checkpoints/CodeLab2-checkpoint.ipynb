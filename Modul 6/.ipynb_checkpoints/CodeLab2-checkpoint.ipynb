{
 "cells": [
  {
   "cell_type": "markdown",
   "id": "6f0f73e3-4578-48d4-93e0-1ac1cb193395",
   "metadata": {},
   "source": [
    "### CodeLab2"
   ]
  },
  {
   "cell_type": "code",
   "execution_count": 1,
   "id": "9afa41bf-f1eb-419e-b933-5f06e6dc7ba1",
   "metadata": {},
   "outputs": [],
   "source": [
    "import matplotlib.pyplot as plt\n",
    "import numpy as np\n",
    "from PIL import Image, ImageFilter\n",
    "\n",
    "# Membuat gambar kosong\n",
    "fig, ax = plt.subplots()\n",
    "\n",
    "# Menambahkan judul\n",
    "ax.set_title('Contoh Gambar')\n",
    "\n",
    "# Menyembunyikan axis\n",
    "ax.axis('off')\n",
    "\n",
    "# Menambahkan teks dan anotasi\n",
    "ax.text(0.5, 0.5, 'Teks pada Gambar', ha='center', va='center', transform=ax.transAxes)\n",
    "ax.annotate('Anotasi', xy=(0.5, 0.5), xytext=(0.7, 0.7), arrowprops=dict(facecolor='black', shrink=0.05))\n",
    "\n",
    "# Menyimpan gambar sementara untuk rotasi dan filter\n",
    "plt.savefig('kucing.png')\n",
    "plt.close()\n",
    "\n",
    "# Membuka dan memproses gambar dengan PIL\n",
    "img = Image.open('kucing.png')\n",
    "\n",
    "# Rotasi gambar\n",
    "rotated_img = img.rotate(45)\n",
    "\n",
    "# Terapkan filter\n",
    "# filtered_img = rotated_img.filter(ImageFilter.CONTOUR)\n",
    "\n",
    "# Menyimpan hasil akhir\n",
    "filtered_img.save('final_image.png')\n",
    "\n",
    "# Menampilkan hasil akhir\n",
    "filtered_img.show()\n"
   ]
  },
  {
   "cell_type": "code",
   "execution_count": null,
   "id": "32a172f9-4b32-4933-a5ff-952b9feffd3f",
   "metadata": {},
   "outputs": [],
   "source": []
  }
 ],
 "metadata": {
  "kernelspec": {
   "display_name": "Python 3 (ipykernel)",
   "language": "python",
   "name": "python3"
  },
  "language_info": {
   "codemirror_mode": {
    "name": "ipython",
    "version": 3
   },
   "file_extension": ".py",
   "mimetype": "text/x-python",
   "name": "python",
   "nbconvert_exporter": "python",
   "pygments_lexer": "ipython3",
   "version": "3.11.3"
  }
 },
 "nbformat": 4,
 "nbformat_minor": 5
}

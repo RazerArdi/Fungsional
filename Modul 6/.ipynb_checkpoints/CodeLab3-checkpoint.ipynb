{
 "cells": [
  {
   "cell_type": "markdown",
   "id": "896d818a-09b5-4a3d-823b-d13ec0e0106b",
   "metadata": {},
   "source": [
    "### CodeLab3"
   ]
  },
  {
   "cell_type": "code",
   "execution_count": 3,
   "id": "3bd2e8e6-c2a7-425f-9c2d-3c40da993005",
   "metadata": {},
   "outputs": [],
   "source": [
    "import matplotlib.pyplot as plt\n",
    "from PIL import Image, ImageDraw, ImageFont, ImageFilter\n",
    "\n",
    "# Membuka gambar latar belakang dan overlay\n",
    "background_image = Image.open('satu.jpg')\n",
    "overlay_image = Image.open('dua.jpg')\n",
    "\n",
    "# Konversi overlay ke mode RGB (menghilangkan alpha channel)\n",
    "overlay_image = overlay_image.convert('RGB')\n",
    "\n",
    "# (Optional) Perkecil ukuran gambar overlay menggunakan resize()\n",
    "overlay_image = overlay_image.resize((1000, 1000))\n",
    "\n",
    "# Hitung posisi pusat untuk menyisipkan gambar overlay\n",
    "x_center = (background_image.width - overlay_image.width) // 2\n",
    "y_center = (background_image.height - overlay_image.height) // 2\n",
    "\n",
    "# Sisipkan gambar overlay ke dalam gambar background\n",
    "background_image.paste(overlay_image, (x_center, y_center))\n",
    "\n",
    "# Simpan gambar hasil edit\n",
    "background_image.save('hasil_edit.jpg')\n",
    "\n",
    "# Tampilkan gambar hasil edit menggunakan PIL\n",
    "background_image.show()\n",
    "\n",
    "# Tampilkan gambar hasil edit menggunakan Matplotlib\n",
    "fig, ax = plt.subplots()\n",
    "ax.imshow(background_image)\n",
    "ax.set_title('Gambar Hasil Edit')\n",
    "ax.axis('off')  # Menyembunyikan axis\n",
    "plt.show()\n"
   ]
  }
 ],
 "metadata": {
  "kernelspec": {
   "display_name": "Python 3 (ipykernel)",
   "language": "python",
   "name": "python3"
  },
  "language_info": {
   "codemirror_mode": {
    "name": "ipython",
    "version": 3
   },
   "file_extension": ".py",
   "mimetype": "text/x-python",
   "name": "python",
   "nbconvert_exporter": "python",
   "pygments_lexer": "ipython3",
   "version": "3.11.3"
  }
 },
 "nbformat": 4,
 "nbformat_minor": 5
}

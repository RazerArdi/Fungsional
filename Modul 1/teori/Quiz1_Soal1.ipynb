{
 "cells": [
  {
   "cell_type": "markdown",
   "id": "5bad7de2-cf0b-4b5b-905e-bb353d133469",
   "metadata": {},
   "source": [
    "Disusun oleh:\r\n",
    "\r\n",
    "Bayu Ardiyansyah"
   ]
  },
  {
   "cell_type": "markdown",
   "id": "6bb6216a-bc0c-4d6b-8858-d8660e0ea02d",
   "metadata": {},
   "source": [
    "**1.buat fungsi aritmitka dasar**"
   ]
  },
  {
   "cell_type": "code",
   "execution_count": 1,
   "id": "a3435cfc-a6c0-4bb1-9766-121386180f91",
   "metadata": {},
   "outputs": [
    {
     "name": "stdout",
     "output_type": "stream",
     "text": [
      "Penjumlahan Real: 15\n",
      "Pengurangan Real: 5\n",
      "Perkalian Real: 50\n",
      "Pembagian Real: 2.0\n",
      "Penjumlahan Kompleks: (4+6j)\n",
      "Pengurangan Kompleks: (2-2j)\n",
      "Perkalian Kompleks: (-5+14j)\n",
      "Pembagian Kompleks: (0.6470588235294118-0.5882352941176471j)\n"
     ]
    }
   ],
   "source": [
    "class Aritmatika:\n",
    "    def __init__(self, a, b):\n",
    "        \"\"\"Inisialisasi dengan dua angka, a dan b, yang bisa berupa bilangan real atau kompleks.\"\"\"\n",
    "        self.a = a\n",
    "        self.b = b\n",
    "\n",
    "    def tambah(self):\n",
    "        \"\"\"Penjumlahan antara dua bilangan.\"\"\"\n",
    "        return self.a + self.b\n",
    "\n",
    "    def kurang(self):\n",
    "        \"\"\"Pengurangan antara dua bilangan.\"\"\"\n",
    "        return self.a - self.b\n",
    "\n",
    "    def kali(self):\n",
    "        \"\"\"Perkalian antara dua bilangan.\"\"\"\n",
    "        return self.a * self.b\n",
    "\n",
    "    def bagi(self):\n",
    "        \"\"\"Pembagian antara dua bilangan. Jika b = 0, maka hasil adalah None.\"\"\"\n",
    "        if self.b == 0:\n",
    "            return None\n",
    "        return self.a / self.b\n",
    "\n",
    "# Contoh penggunaan\n",
    "# Operasi dengan bilangan real (Sederhana)\n",
    "arit_real = Aritmatika(10, 5)\n",
    "print(f\"Penjumlahan Real: {arit_real.tambah()}\")   # Output: 15\n",
    "print(f\"Pengurangan Real: {arit_real.kurang()}\")   # Output: 5\n",
    "print(f\"Perkalian Real: {arit_real.kali()}\")       # Output: 50\n",
    "print(f\"Pembagian Real: {arit_real.bagi()}\")       # Output: 2.0\n",
    "\n",
    "# Operasi dengan bilangan Advanced\n",
    "arit_kompleks = Aritmatika(3+2j, 1+4j)\n",
    "print(f\"Penjumlahan Kompleks: {arit_kompleks.tambah()}\")  # Output: (4+6j)\n",
    "print(f\"Pengurangan Kompleks: {arit_kompleks.kurang()}\")  # Output: (2-2j)\n",
    "print(f\"Perkalian Kompleks: {arit_kompleks.kali()}\")      # Output: (-5+14j)\n",
    "print(f\"Pembagian Kompleks: {arit_kompleks.bagi()}\")      # Output: (0.8235294117647058-0.6470588235294118j)\n"
   ]
  },
  {
   "cell_type": "code",
   "execution_count": null,
   "id": "1312628a-8bc0-4a21-9a46-e927f99a429e",
   "metadata": {},
   "outputs": [],
   "source": []
  }
 ],
 "metadata": {
  "kernelspec": {
   "display_name": "Python 3 (ipykernel)",
   "language": "python",
   "name": "python3"
  },
  "language_info": {
   "codemirror_mode": {
    "name": "ipython",
    "version": 3
   },
   "file_extension": ".py",
   "mimetype": "text/x-python",
   "name": "python",
   "nbconvert_exporter": "python",
   "pygments_lexer": "ipython3",
   "version": "3.11.3"
  }
 },
 "nbformat": 4,
 "nbformat_minor": 5
}

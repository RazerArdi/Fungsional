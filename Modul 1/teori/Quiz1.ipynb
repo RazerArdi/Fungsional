{
 "cells": [
  {
   "cell_type": "markdown",
   "id": "a9295752-c80a-4c6d-bb40-5c23edebf838",
   "metadata": {},
   "source": [
    "Disusun oleh:\n",
    "\n",
    "Bayu Ardiyansyah"
   ]
  },
  {
   "cell_type": "markdown",
   "id": "1555ed33-d028-41ce-8925-c6db9d0f4092",
   "metadata": {},
   "source": [
    "1. buat fungsi aritmitka dasar\n",
    "2. Buatlah Fungsi Login\n",
    "3. buatlah satu fungsi bebas seperti login\n",
    "pakai pure function"
   ]
  },
  {
   "cell_type": "markdown",
   "id": "be6d5048-189f-4213-a8ef-4b9a13e4fe4e",
   "metadata": {},
   "source": [
    "**1.buat fungsi aritmitka dasar**"
   ]
  },
  {
   "cell_type": "code",
   "execution_count": 1,
   "id": "a13ed316-223a-4e3b-93f4-ae7ee95d4420",
   "metadata": {},
   "outputs": [
    {
     "name": "stdout",
     "output_type": "stream",
     "text": [
      "Penjumlahan Real: 15\n",
      "Pengurangan Real: 5\n",
      "Perkalian Real: 50\n",
      "Pembagian Real: 2.0\n",
      "Penjumlahan Kompleks: (4+6j)\n",
      "Pengurangan Kompleks: (2-2j)\n",
      "Perkalian Kompleks: (-5+14j)\n",
      "Pembagian Kompleks: (0.6470588235294118-0.5882352941176471j)\n"
     ]
    }
   ],
   "source": [
    "class Aritmatika:\n",
    "    def __init__(self, a, b):\n",
    "        \"\"\"Inisialisasi dengan dua angka, a dan b, yang bisa berupa bilangan real atau kompleks.\"\"\"\n",
    "        self.a = a\n",
    "        self.b = b\n",
    "\n",
    "    def tambah(self):\n",
    "        \"\"\"Penjumlahan antara dua bilangan.\"\"\"\n",
    "        return self.a + self.b\n",
    "\n",
    "    def kurang(self):\n",
    "        \"\"\"Pengurangan antara dua bilangan.\"\"\"\n",
    "        return self.a - self.b\n",
    "\n",
    "    def kali(self):\n",
    "        \"\"\"Perkalian antara dua bilangan.\"\"\"\n",
    "        return self.a * self.b\n",
    "\n",
    "    def bagi(self):\n",
    "        \"\"\"Pembagian antara dua bilangan. Jika b = 0, maka hasil adalah None.\"\"\"\n",
    "        if self.b == 0:\n",
    "            return None\n",
    "        return self.a / self.b\n",
    "\n",
    "# Contoh penggunaan\n",
    "# Operasi dengan bilangan real (Sederhana)\n",
    "arit_real = Aritmatika(10, 5)\n",
    "print(f\"Penjumlahan Real: {arit_real.tambah()}\")   # Output: 15\n",
    "print(f\"Pengurangan Real: {arit_real.kurang()}\")   # Output: 5\n",
    "print(f\"Perkalian Real: {arit_real.kali()}\")       # Output: 50\n",
    "print(f\"Pembagian Real: {arit_real.bagi()}\")       # Output: 2.0\n",
    "\n",
    "# Operasi dengan bilangan Advanced\n",
    "arit_kompleks = Aritmatika(3+2j, 1+4j)\n",
    "print(f\"Penjumlahan Kompleks: {arit_kompleks.tambah()}\")  # Output: (4+6j)\n",
    "print(f\"Pengurangan Kompleks: {arit_kompleks.kurang()}\")  # Output: (2-2j)\n",
    "print(f\"Perkalian Kompleks: {arit_kompleks.kali()}\")      # Output: (-5+14j)\n",
    "print(f\"Pembagian Kompleks: {arit_kompleks.bagi()}\")      # Output: (0.8235294117647058-0.6470588235294118j)\n"
   ]
  },
  {
   "cell_type": "markdown",
   "id": "29881e42-1643-4869-b7e2-31bce4475466",
   "metadata": {},
   "source": [
    "2. **Buatlah Fungsi Login**\n",
    "3. **buatlah satu fungsi bebas seperti login pakai pure function**"
   ]
  },
  {
   "cell_type": "code",
   "execution_count": 3,
   "id": "bf7e1ff1-6ba6-407f-b7fa-d2c5a217be28",
   "metadata": {},
   "outputs": [
    {
     "name": "stdout",
     "output_type": "stream",
     "text": [
      "Registrasi berhasil.\n",
      "Email harus menggunakan domain @gmail.com atau @outlook.com\n",
      "Password harus memiliki minimal 8 karakter, 1 simbol, dan 1 angka.\n",
      "Login berhasil.\n",
      "Password salah.\n",
      "Email tidak terdaftar.\n"
     ]
    }
   ],
   "source": [
    "\n",
    "## kita jadikan satu aja\n",
    "## UserAuth untuk menangani login dan registrasi akun(login)\n",
    "## PasswordChecker sebagai pendukung untuk memvalidasi password (menggunakan pure function yang tidak memodifikasi state). Pure Function.\n",
    "\n",
    "import re\n",
    "\n",
    "class UserAuth:\n",
    "    def __init__(self):\n",
    "        # Dummy data pengguna yang sudah terdaftar (email: password)\n",
    "        self.users = {\"user@gmail.com\": \"SecurePass1!\"}\n",
    "\n",
    "    def register(self, email, password):\n",
    "        \"\"\"Registrasi akun baru dengan validasi format email dan password.\"\"\"\n",
    "        # Validasi format email\n",
    "        if not re.match(r\"[^@]+@(gmail\\.com|outlook\\.com)\", email):\n",
    "            return \"Email harus menggunakan domain @gmail.com atau @outlook.com\"\n",
    "        \n",
    "        # Validasi password\n",
    "        if not PasswordChecker.is_valid_password(password):\n",
    "            return (\"Password harus memiliki minimal 8 karakter, \"\n",
    "                    \"1 simbol, dan 1 angka.\")\n",
    "        \n",
    "        # Periksa apakah email sudah terdaftar\n",
    "        if email in self.users:\n",
    "            return \"Email sudah terdaftar.\"\n",
    "        \n",
    "        # Registrasi pengguna baru\n",
    "        self.users[email] = password\n",
    "        return \"Registrasi berhasil.\"\n",
    "\n",
    "    def login(self, email, password):\n",
    "        \"\"\"Login ke sistem dengan validasi email dan password.\"\"\"\n",
    "        # Cek apakah email terdaftar\n",
    "        if email not in self.users:\n",
    "            return \"Email tidak terdaftar.\"\n",
    "\n",
    "        # Cek apakah password sesuai\n",
    "        if self.users[email] != password:\n",
    "            return \"Password salah.\"\n",
    "\n",
    "        return \"Login berhasil.\"\n",
    "\n",
    "\n",
    "class PasswordChecker:\n",
    "    @staticmethod\n",
    "    def is_valid_password(password):\n",
    "        \"\"\"\n",
    "        Validasi apakah password memenuhi kriteria:\n",
    "        - Minimal 8 karakter\n",
    "        - Mengandung setidaknya 1 angka\n",
    "        - Mengandung setidaknya 1 simbol\n",
    "        \"\"\"\n",
    "        # Panjang minimal 8 karakter\n",
    "        if len(password) < 8:\n",
    "            return False\n",
    "\n",
    "        # Harus mengandung setidaknya 1 angka\n",
    "        if not re.search(r\"\\d\", password):\n",
    "            return False\n",
    "\n",
    "        # Harus mengandung setidaknya 1 simbol\n",
    "        if not re.search(r\"[!@#$%^&*(),.?\\\":{}|<>]\", password):\n",
    "            return False\n",
    "\n",
    "        return True\n",
    "\n",
    "\n",
    "# Contoh Penggunaan\n",
    "auth = UserAuth()\n",
    "\n",
    "# Registrasi pengguna baru\n",
    "print(auth.register(\"new_user@gmail.com\", \"ComplexPass1@\"))  # Output: Registrasi berhasil.\n",
    "print(auth.register(\"user@yahoo.com\", \"ComplexPass1@\"))      # Output: Email harus menggunakan domain @gmail.com atau @outlook.com\n",
    "print(auth.register(\"new_user@gmail.com\", \"pass\"))           # Output: Password harus memiliki minimal 8 karakter, 1 simbol, dan 1 angka.\n",
    "\n",
    "# Login pengguna yang terdaftar\n",
    "print(auth.login(\"new_user@gmail.com\", \"ComplexPass1@\"))     # Output: Login berhasil.\n",
    "print(auth.login(\"new_user@gmail.com\", \"wrongpass\"))         # Output: Password salah.\n",
    "print(auth.login(\"unknown@gmail.com\", \"ComplexPass1@\"))      # Output: Email tidak terdaftar.\n"
   ]
  }
 ],
 "metadata": {
  "kernelspec": {
   "display_name": "Python 3 (ipykernel)",
   "language": "python",
   "name": "python3"
  },
  "language_info": {
   "codemirror_mode": {
    "name": "ipython",
    "version": 3
   },
   "file_extension": ".py",
   "mimetype": "text/x-python",
   "name": "python",
   "nbconvert_exporter": "python",
   "pygments_lexer": "ipython3",
   "version": "3.11.3"
  }
 },
 "nbformat": 4,
 "nbformat_minor": 5
}

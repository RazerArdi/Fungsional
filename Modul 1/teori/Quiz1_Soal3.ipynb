{
 "cells": [
  {
   "cell_type": "markdown",
   "id": "b9f8934c-b235-4ef2-ab4b-b7d96f1eb410",
   "metadata": {},
   "source": [
    "Disusun oleh:\r\n",
    "\r\n",
    "Bayu Ardiyansyah"
   ]
  },
  {
   "cell_type": "markdown",
   "id": "98df6d9d-0db1-458b-8d01-5a9c68d07978",
   "metadata": {},
   "source": [
    "3. **buatlah satu fungsi bebas seperti login pakai pure function**"
   ]
  },
  {
   "cell_type": "code",
   "execution_count": 2,
   "id": "1dfb318f-a012-43c7-b8ef-914900cb3711",
   "metadata": {},
   "outputs": [
    {
     "name": "stdout",
     "output_type": "stream",
     "text": [
      "Registrasi berhasil.\n",
      "Email harus menggunakan domain @gmail.com atau @outlook.com\n",
      "Password harus memiliki minimal 8 karakter, 1 simbol, dan 1 angka.\n",
      "Login berhasil.\n",
      "Password salah.\n",
      "Email tidak terdaftar.\n"
     ]
    }
   ],
   "source": [
    "\n",
    "## kita kembangkan kelas UserAuth kita dengan validasi password (pure function)\n",
    "## UserAuth untuk menangani login dan registrasi akun(login)\n",
    "## PasswordChecker sebagai pendukung untuk memvalidasi password (menggunakan pure function yang tidak memodifikasi state). Pure Function.\n",
    "\n",
    "import re\n",
    "\n",
    "class UserAuth:\n",
    "    def __init__(self):\n",
    "        # Dummy data pengguna yang sudah terdaftar (email: password)\n",
    "        self.users = {\"user@gmail.com\": \"SecurePass1!\"}\n",
    "\n",
    "    def register(self, email, password):\n",
    "        \"\"\"Registrasi akun baru dengan validasi format email dan password.\"\"\"\n",
    "        # Validasi format email\n",
    "        if not re.match(r\"[^@]+@(gmail\\.com|outlook\\.com)\", email):\n",
    "            return \"Email harus menggunakan domain @gmail.com atau @outlook.com\"\n",
    "        \n",
    "        # Validasi password\n",
    "        if not PasswordChecker.is_valid_password(password):\n",
    "            return (\"Password harus memiliki minimal 8 karakter, \"\n",
    "                    \"1 simbol, dan 1 angka.\")\n",
    "        \n",
    "        # Periksa apakah email sudah terdaftar\n",
    "        if email in self.users:\n",
    "            return \"Email sudah terdaftar.\"\n",
    "        \n",
    "        # Registrasi pengguna baru\n",
    "        self.users[email] = password\n",
    "        return \"Registrasi berhasil.\"\n",
    "\n",
    "    def login(self, email, password):\n",
    "        \"\"\"Login ke sistem dengan validasi email dan password.\"\"\"\n",
    "        # Cek apakah email terdaftar\n",
    "        if email not in self.users:\n",
    "            return \"Email tidak terdaftar.\"\n",
    "\n",
    "        # Cek apakah password sesuai\n",
    "        if self.users[email] != password:\n",
    "            return \"Password salah.\"\n",
    "\n",
    "        return \"Login berhasil.\"\n",
    "\n",
    "\n",
    "class PasswordChecker:\n",
    "    @staticmethod\n",
    "    def is_valid_password(password):\n",
    "        \"\"\"\n",
    "        Validasi apakah password memenuhi kriteria:\n",
    "        - Minimal 8 karakter\n",
    "        - Mengandung setidaknya 1 angka\n",
    "        - Mengandung setidaknya 1 simbol\n",
    "        \"\"\"\n",
    "        # Panjang minimal 8 karakter\n",
    "        if len(password) < 8:\n",
    "            return False\n",
    "\n",
    "        # Harus mengandung setidaknya 1 angka\n",
    "        if not re.search(r\"\\d\", password):\n",
    "            return False\n",
    "\n",
    "        # Harus mengandung setidaknya 1 simbol\n",
    "        if not re.search(r\"[!@#$%^&*(),.?\\\":{}|<>]\", password):\n",
    "            return False\n",
    "\n",
    "        return True\n",
    "\n",
    "\n",
    "# Contoh Penggunaan\n",
    "auth = UserAuth()\n",
    "\n",
    "# Registrasi pengguna baru\n",
    "print(auth.register(\"new_user@gmail.com\", \"ComplexPass1@\"))  # Output: Registrasi berhasil.\n",
    "print(auth.register(\"user@yahoo.com\", \"ComplexPass1@\"))      # Output: Email harus menggunakan domain @gmail.com atau @outlook.com\n",
    "print(auth.register(\"new_user@gmail.com\", \"pass\"))           # Output: Password harus memiliki minimal 8 karakter, 1 simbol, dan 1 angka.\n",
    "\n",
    "# Login pengguna yang terdaftar\n",
    "print(auth.login(\"new_user@gmail.com\", \"ComplexPass1@\"))     # Output: Login berhasil.\n",
    "print(auth.login(\"new_user@gmail.com\", \"wrongpass\"))         # Output: Password salah.\n",
    "print(auth.login(\"unknown@gmail.com\", \"ComplexPass1@\"))      # Output: Email tidak terdaftar.\n"
   ]
  },
  {
   "cell_type": "code",
   "execution_count": null,
   "id": "83803f03-8d53-43e1-bcab-20f290a529ad",
   "metadata": {},
   "outputs": [],
   "source": []
  }
 ],
 "metadata": {
  "kernelspec": {
   "display_name": "Python 3 (ipykernel)",
   "language": "python",
   "name": "python3"
  },
  "language_info": {
   "codemirror_mode": {
    "name": "ipython",
    "version": 3
   },
   "file_extension": ".py",
   "mimetype": "text/x-python",
   "name": "python",
   "nbconvert_exporter": "python",
   "pygments_lexer": "ipython3",
   "version": "3.11.3"
  }
 },
 "nbformat": 4,
 "nbformat_minor": 5
}

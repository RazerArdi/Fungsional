{
 "cells": [
  {
   "cell_type": "markdown",
   "id": "4d690d4a-8480-4d34-ab97-2a28f96feca4",
   "metadata": {},
   "source": [
    "Disusun oleh:\n",
    "\n",
    "Bayu Ardiyansyah"
   ]
  },
  {
   "cell_type": "markdown",
   "id": "d55d68ac-8044-484f-aa17-0e43cf95a50e",
   "metadata": {},
   "source": [
    "2. **Buatlah Fungsi Login**"
   ]
  },
  {
   "cell_type": "code",
   "execution_count": 2,
   "id": "79132199-7004-4ac4-8f8f-345d892ebed2",
   "metadata": {},
   "outputs": [
    {
     "name": "stdout",
     "output_type": "stream",
     "text": [
      "Registrasi berhasil.\n",
      "Email harus menggunakan domain @gmail.com atau @outlook.com\n",
      "Password harus memiliki minimal 8 karakter, 1 simbol, dan 1 angka.\n",
      "Login berhasil.\n",
      "Password salah.\n",
      "Email tidak terdaftar.\n"
     ]
    }
   ],
   "source": [
    "import re\n",
    "\n",
    "class UserAuth:\n",
    "    def __init__(self):\n",
    "        # Dummy data pengguna yang sudah terdaftar (email: password)\n",
    "        self.users = {\"user@gmail.com\": \"SecurePass1!\"}\n",
    "\n",
    "    def _validate_email(self, email):\n",
    "        \"\"\"Validasi apakah email menggunakan domain yang benar.\"\"\"\n",
    "        return re.match(r\"[^@]+@(gmail\\.com|outlook\\.com)\", email)\n",
    "\n",
    "    def _validate_password(self, password):\n",
    "        \"\"\"\n",
    "        Validasi apakah password memenuhi kriteria:\n",
    "        - Minimal 8 karakter\n",
    "        - Mengandung setidaknya 1 angka\n",
    "        - Mengandung setidaknya 1 simbol\n",
    "        \"\"\"\n",
    "        if len(password) < 8:\n",
    "            return False\n",
    "        if not re.search(r\"\\d\", password):  # Minimal 1 angka\n",
    "            return False\n",
    "        if not re.search(r\"[!@#$%^&*(),.?\\\":{}|<>]\", password):  # Minimal 1 simbol\n",
    "            return False\n",
    "        return True\n",
    "\n",
    "    def register(self, email, password):\n",
    "        \"\"\"Registrasi akun baru dengan validasi format email dan password.\"\"\"\n",
    "        # Validasi email\n",
    "        if not self._validate_email(email):\n",
    "            return \"Email harus menggunakan domain @gmail.com atau @outlook.com\"\n",
    "        \n",
    "        # Validasi password\n",
    "        if not self._validate_password(password):\n",
    "            return (\"Password harus memiliki minimal 8 karakter, \"\n",
    "                    \"1 simbol, dan 1 angka.\")\n",
    "        \n",
    "        # Periksa apakah email sudah terdaftar\n",
    "        if email in self.users:\n",
    "            return \"Email sudah terdaftar.\"\n",
    "        \n",
    "        # Registrasi pengguna baru\n",
    "        self.users[email] = password\n",
    "        return \"Registrasi berhasil.\"\n",
    "\n",
    "    def login(self, email, password):\n",
    "        \"\"\"Login ke sistem dengan validasi email dan password.\"\"\"\n",
    "        # Cek apakah email terdaftar\n",
    "        if email not in self.users:\n",
    "            return \"Email tidak terdaftar.\"\n",
    "\n",
    "        # Cek apakah password sesuai\n",
    "        if self.users[email] != password:\n",
    "            return \"Password salah.\"\n",
    "\n",
    "        return \"Login berhasil.\"\n",
    "\n",
    "\n",
    "# Contoh Penggunaan\n",
    "auth = UserAuth()\n",
    "\n",
    "# Registrasi pengguna baru\n",
    "print(auth.register(\"new_user@gmail.com\", \"ComplexPass1@\"))  # Output: Registrasi berhasil.\n",
    "print(auth.register(\"user@yahoo.com\", \"ComplexPass1@\"))      # Output: Email harus menggunakan domain @gmail.com atau @outlook.com\n",
    "print(auth.register(\"new_user@gmail.com\", \"pass\"))           # Output: Password harus memiliki minimal 8 karakter, 1 simbol, dan 1 angka.\n",
    "\n",
    "# Login pengguna yang terdaftar\n",
    "print(auth.login(\"new_user@gmail.com\", \"ComplexPass1@\"))     # Output: Login berhasil.\n",
    "print(auth.login(\"new_user@gmail.com\", \"wrongpass\"))         # Output: Password salah.\n",
    "print(auth.login(\"unknown@gmail.com\", \"ComplexPass1@\"))      # Output: Email tidak terdaftar.\n"
   ]
  },
  {
   "cell_type": "code",
   "execution_count": null,
   "id": "7b7cc33b-331d-48c3-80be-b4ae662ae42b",
   "metadata": {},
   "outputs": [],
   "source": []
  }
 ],
 "metadata": {
  "kernelspec": {
   "display_name": "Python 3 (ipykernel)",
   "language": "python",
   "name": "python3"
  },
  "language_info": {
   "codemirror_mode": {
    "name": "ipython",
    "version": 3
   },
   "file_extension": ".py",
   "mimetype": "text/x-python",
   "name": "python",
   "nbconvert_exporter": "python",
   "pygments_lexer": "ipython3",
   "version": "3.11.3"
  }
 },
 "nbformat": 4,
 "nbformat_minor": 5
}

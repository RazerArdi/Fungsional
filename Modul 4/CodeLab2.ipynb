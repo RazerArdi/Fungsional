{
 "cells": [
  {
   "cell_type": "code",
   "execution_count": 1,
   "id": "4923c86e-5e79-4e36-b3d6-584de5011444",
   "metadata": {},
   "outputs": [],
   "source": [
    "books = [\n",
    "    {'judul':'Pulang', 'penulis': 'Tere Liye', 'halaman': 400},\n",
    "    {'judul':'Kapan Nanti', 'penulis': 'Ziggy Z.', 'halaman': 142},\n",
    "    {'judul':'Namaku Alam', 'penulis': 'Leila S. Chudori', 'halaman': 448},\n",
    "    {'judul':'Origin', 'penulis': 'Dan Brown', 'halaman': 511},\n",
    "    {'judul':'Rumah Lebah', 'penulis': 'Ruwi Meita', 'halaman': 288},\n",
    "    {'judul':'Kubah', 'penulis': 'Ahmad Tohari', 'halaman': 184},\n",
    "    {'judul':'Dompet Ayah Sepatu Ibu', 'penulis': 'J. S. Khairen', 'halaman': 210},\n",
    "]"
   ]
  },
  {
   "cell_type": "code",
   "execution_count": 39,
   "id": "ed9a50fb-5f13-45c0-bb5d-99ba09e65884",
   "metadata": {},
   "outputs": [
    {
     "name": "stdout",
     "output_type": "stream",
     "text": [
      "Judul: Kapan Nanti, Penulis: Ziggy Z., Halaman: 142\n",
      "Judul: Kubah, Penulis: Ahmad Tohari, Halaman: 184\n"
     ]
    }
   ],
   "source": [
    "# Fungsi untuk memfilter buku berdasarkan kriteria tertentu\n",
    "def book_filter(criteria_func):\n",
    "    return [book for book in books if criteria_func(book)]\n",
    "\n",
    "# Kriteria untuk judul buku yang berawalan 'K'\n",
    "def judul_awalan_K(book):\n",
    "    return book['judul'].startswith('K')\n",
    "\n",
    "# TODO 1: Gunakan list comprehension untuk menyaring buku dari books yang judulnya diawali dengan huruf 'K'\n",
    "filtered_books = book_filter(lambda book: book['judul'].startswith('K'))\n",
    "\n",
    "# TODO 2, 3, 4: Cetak detail buku yang tersaring\n",
    "for book in filtered_books:\n",
    "    print(f\"Judul: {book['judul']}, Penulis: {book['penulis']}, Halaman: {book['halaman']}\")"
   ]
  },
  {
   "cell_type": "code",
   "execution_count": 40,
   "id": "4e53f485-c210-433f-b837-b34a8b5dee9c",
   "metadata": {},
   "outputs": [
    {
     "name": "stdout",
     "output_type": "stream",
     "text": [
      "Pulang\n",
      "Kapan Nanti\n",
      "Namaku Alam\n",
      "Origin\n",
      "Rumah Lebah\n",
      "Kubah\n",
      "Dompet Ayah Sepatu Ibu\n"
     ]
    }
   ],
   "source": [
    "# TODO 1: Definisikan fungsi untuk mendapatkan judul buku\n",
    "def judul_buku(book):\n",
    "    return book['judul']  # TODO 2: Kembalikan judul dari setiap buku\n",
    "\n",
    "# TODO 3: Gunakan `map` untuk mendapatkan semua judul buku (books)\n",
    "judul_buku_list = map(lambda book: book['judul'], books)\n",
    "\n",
    "# TODO 4: Cetak judul buku dan gunakan loop untuk iterasi melalui hasil `judul_buku`\n",
    "for judul in judul_buku_list:\n",
    "    print(judul)"
   ]
  },
  {
   "cell_type": "code",
   "execution_count": 44,
   "id": "ca222cbd-b485-491b-879c-b310cdd949c4",
   "metadata": {},
   "outputs": [
    {
     "name": "stdout",
     "output_type": "stream",
     "text": [
      "Judul: Pulang, Penulis: Tere Liye, Halaman: 400\n",
      "Judul: Namaku Alam, Penulis: Leila S. Chudori, Halaman: 448\n",
      "Judul: Origin, Penulis: Dan Brown, Halaman: 511\n",
      "Judul: Rumah Lebah, Penulis: Ruwi Meita, Halaman: 288\n",
      "Judul: Dompet Ayah Sepatu Ibu, Penulis: J. S. Khairen, Halaman: 210\n"
     ]
    }
   ],
   "source": [
    "# TODO 1: Definisikan fungsi untuk memeriksa jumlah halaman\n",
    "def lebih_200(book):\n",
    "    return book['halaman'] > 200  # TODO 2: Kembalikan True jika halaman lebih dari 200\n",
    "\n",
    "# TODO 3: Gunakan `filter` untuk menyaring buku\n",
    "books_200 = filter(lambda book: book['halaman'] > 200, books)\n",
    "\n",
    "# TODO 4: Cetak hasil dan gunakan loop untuk iterasi melalui hasil `books_200`\n",
    "for book in books_200:\n",
    "    print(f\"Judul: {book['judul']}, Penulis: {book['penulis']}, Halaman: {book['halaman']}\")"
   ]
  },
  {
   "cell_type": "code",
   "execution_count": 45,
   "id": "39b950ee-41bc-4a95-97c0-bcd221e0af41",
   "metadata": {},
   "outputs": [
    {
     "name": "stdout",
     "output_type": "stream",
     "text": [
      "Total Halaman: 2183\n"
     ]
    }
   ],
   "source": [
    "# TODO 1: Import modul yang diperlukan\n",
    "from functools import reduce\n",
    "\n",
    "# TODO 2: Definisikan fungsi untuk menghitung total halaman\n",
    "def hitung_halaman(total, book):\n",
    "    return total + book['halaman']  # TODO 3: Tambahkan halaman buku ke total\n",
    "\n",
    "# TODO 4: Gunakan `reduce` untuk menghitung total halaman\n",
    "total_halaman = reduce(lambda total, book : total + book['halaman'], books, 0)\n",
    "\n",
    "# TODO 5: Cetak total halaman\n",
    "print(f\"Total Halaman: {total_halaman}\")\n"
   ]
  },
  {
   "cell_type": "code",
   "execution_count": null,
   "id": "df156768-d9a5-436d-8e72-acbb487bf68c",
   "metadata": {},
   "outputs": [],
   "source": []
  }
 ],
 "metadata": {
  "kernelspec": {
   "display_name": "Python 3 (ipykernel)",
   "language": "python",
   "name": "python3"
  },
  "language_info": {
   "codemirror_mode": {
    "name": "ipython",
    "version": 3
   },
   "file_extension": ".py",
   "mimetype": "text/x-python",
   "name": "python",
   "nbconvert_exporter": "python",
   "pygments_lexer": "ipython3",
   "version": "3.11.3"
  }
 },
 "nbformat": 4,
 "nbformat_minor": 5
}

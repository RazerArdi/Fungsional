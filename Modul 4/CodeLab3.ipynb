{
 "cells": [
  {
   "cell_type": "code",
   "execution_count": 11,
   "id": "2edaccd4-a833-4741-aaae-0e53b3027d7b",
   "metadata": {},
   "outputs": [
    {
     "name": "stdout",
     "output_type": "stream",
     "text": [
      "Fungsi ini dipanggil\n",
      "HELLO, WORLD!\n",
      "\n",
      "Fungsi ini dipanggil\n",
      "hello, world!\n"
     ]
    }
   ],
   "source": [
    "# Membuat dekorator\n",
    "def simple_decorator(func):\n",
    "    def wrapper(*args, **kwargs):\n",
    "        print(\"Fungsi ini dipanggil\")\n",
    "        return func(*args, **kwargs)\n",
    "    return wrapper\n",
    "\n",
    "@simple_decorator\n",
    "def hello(func, text):\n",
    "    greeting = func(text)\n",
    "    print(greeting)\n",
    "\n",
    "def shout(text): \n",
    "    return text.upper() \n",
    "\n",
    "def whisper(text): \n",
    "    return text.lower() \n",
    "\n",
    "# Memanggil fungsi hello dengan shout dan whisper\n",
    "hello(shout, \"Hello, World!\\n\")\n",
    "hello(whisper, \"Hello, World!\")"
   ]
  },
  {
   "cell_type": "code",
   "execution_count": null,
   "id": "aa20ba7a-f6ca-49eb-8a69-0ebe19a1fe55",
   "metadata": {},
   "outputs": [],
   "source": []
  }
 ],
 "metadata": {
  "kernelspec": {
   "display_name": "Python 3 (ipykernel)",
   "language": "python",
   "name": "python3"
  },
  "language_info": {
   "codemirror_mode": {
    "name": "ipython",
    "version": 3
   },
   "file_extension": ".py",
   "mimetype": "text/x-python",
   "name": "python",
   "nbconvert_exporter": "python",
   "pygments_lexer": "ipython3",
   "version": "3.11.3"
  }
 },
 "nbformat": 4,
 "nbformat_minor": 5
}

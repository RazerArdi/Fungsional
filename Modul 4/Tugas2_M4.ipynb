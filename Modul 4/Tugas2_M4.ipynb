{
 "cells": [
  {
   "cell_type": "code",
   "execution_count": 1,
   "id": "23b7e41c-b602-4e29-8933-a9f569b40946",
   "metadata": {},
   "outputs": [
    {
     "name": "stdout",
     "output_type": "stream",
     "text": [
      "Grades: [7.5, 8.2, 9.6, 8.5]\n",
      "Average: 8.45\n",
      "Below average: [7.5, 8.2]\n",
      "Above average: [9.6, 8.5]\n",
      "Grades for NIM checker: [9.6, 8.5]\n",
      "Execution time: 0.001004934310913086 seconds\n"
     ]
    }
   ],
   "source": [
    "import time\n",
    "from functools import reduce\n",
    "\n",
    "# First Class Function: function to input student grades\n",
    "def input_grades():\n",
    "    return [7.5, 8.2, 9.6, 8.5]\n",
    "\n",
    "# Lambda Expression and Higher Order Function\n",
    "def calculate_statistics(grades):\n",
    "    average = reduce(lambda x, y: x + y, grades) / len(grades)\n",
    "    \n",
    "    below_average = list(filter(lambda x: x < average, grades))\n",
    "    above_average = list(filter(lambda x: x > average, grades))\n",
    "    \n",
    "    return average, below_average, above_average\n",
    "\n",
    "# Closure\n",
    "def nim_closure(nim):\n",
    "    def check_nim(grades):\n",
    "        average, below_average, above_average = calculate_statistics(grades)\n",
    "        if nim % 2 == 0:\n",
    "            return above_average\n",
    "        else:\n",
    "            return below_average\n",
    "    return check_nim\n",
    "\n",
    "# Decorator to calculate execution time\n",
    "def execution_time_decorator(func):\n",
    "    def wrapper(*args, **kwargs):\n",
    "        start_time = time.time()\n",
    "        result = func(*args, **kwargs)\n",
    "        end_time = time.time()\n",
    "        print(f\"Execution time: {end_time - start_time} seconds\")\n",
    "        return result\n",
    "    return wrapper\n",
    "\n",
    "# Applying the decorator\n",
    "@execution_time_decorator\n",
    "def main():\n",
    "    grades = input_grades()\n",
    "    nim_checker = nim_closure(123456)  # Example NIM\n",
    "    average, below_average, above_average = calculate_statistics(grades)\n",
    "    \n",
    "    print(f\"Grades: {grades}\")\n",
    "    print(f\"Average: {average}\")\n",
    "    print(f\"Below average: {below_average}\")\n",
    "    print(f\"Above average: {above_average}\")\n",
    "    print(f\"Grades for NIM checker: {nim_checker(grades)}\")\n",
    "\n",
    "if __name__ == \"__main__\":\n",
    "    main()\n"
   ]
  },
  {
   "cell_type": "code",
   "execution_count": 22,
   "id": "89f52c55-aae7-4dad-a834-720ecb935867",
   "metadata": {},
   "outputs": [
    {
     "name": "stdout",
     "output_type": "stream",
     "text": [
      "Hello, Bob!\n"
     ]
    }
   ],
   "source": [
    "import nbimporter\n",
    "import Tugas1_M4\n",
    "\n",
    "# Panggil fungsi greet dari file .py\n",
    "Tugas1_M4.greet(\"Bob\")"
   ]
  },
  {
   "cell_type": "code",
   "execution_count": null,
   "id": "36305dd4-0989-4d54-9db9-72dd38cefdfb",
   "metadata": {},
   "outputs": [],
   "source": []
  }
 ],
 "metadata": {
  "kernelspec": {
   "display_name": "Python 3 (ipykernel)",
   "language": "python",
   "name": "python3"
  },
  "language_info": {
   "codemirror_mode": {
    "name": "ipython",
    "version": 3
   },
   "file_extension": ".py",
   "mimetype": "text/x-python",
   "name": "python",
   "nbconvert_exporter": "python",
   "pygments_lexer": "ipython3",
   "version": "3.11.3"
  }
 },
 "nbformat": 4,
 "nbformat_minor": 5
}

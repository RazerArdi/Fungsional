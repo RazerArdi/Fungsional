{
 "cells": [
  {
   "cell_type": "code",
   "execution_count": 6,
   "id": "a45d7e95-3454-417a-b607-40cab367eefe",
   "metadata": {},
   "outputs": [
    {
     "name": "stdout",
     "output_type": "stream",
     "text": [
      "Total Nilai: 811\n",
      "\n",
      "Nilai Tertinggi: 100\n",
      "\n",
      "Mahasiswa Lulus: [('Zaidun', 99), ('Suwarsono', 100), ('Dedi', 75), ('Diki', 100), ('Rusdi', 78), ('Kusnadi', 93), ('Ansori', 92), ('Andri', 76)]\n",
      "\n",
      "Nilai Mahasiswa Update: {'Zaidun': 99, 'Suwarsono': 100, 'Dedi': 75, 'Diki': 100, 'Joko': 45, 'Rusdi': 78, 'Kusnadi': 93, 'Ansori': 92, 'Andri': 76, 'Salsa': 63}\n",
      "\n"
     ]
    }
   ],
   "source": [
    "from functools import reduce\n",
    "\n",
    "nilai_mahasiswa = {\n",
    "'Zaidun' : 99,\n",
    "'Suwarsono' : 100,\n",
    "'Dedi': 75,\n",
    "'Diki': 88,\n",
    "'Joko' : 40,\n",
    "'Rusdi': 78,\n",
    "'Kusnadi': 93,\n",
    "'Diki': 100,\n",
    "'Ansori': 92,\n",
    "'Andri' : 76,\n",
    "'Salsa': 58\n",
    "}\n",
    "total_nilai = sum(nilai_mahasiswa.values())\n",
    "nilai_tertinggi = max(nilai_mahasiswa.values())\n",
    "mahasiswa_lulus = list(filter(lambda x: x[1] >= 75, nilai_mahasiswa.items()))\n",
    "nilai_mahasiswa_update = dict(map(lambda x: (x[0], x[1] + 5 if x[1] < 75 else x[1]), nilai_mahasiswa.items()))\n",
    "# tampilkan nilai\n",
    "print(f\"Total Nilai: {total_nilai}\\n\")\n",
    "print(f\"Nilai Tertinggi: {nilai_tertinggi}\\n\")\n",
    "print(f\"Mahasiswa Lulus: {mahasiswa_lulus}\\n\")\n",
    "print(f\"Nilai Mahasiswa Update: {nilai_mahasiswa_update}\\n\")"
   ]
  },
  {
   "cell_type": "code",
   "execution_count": null,
   "id": "e9dd40f6-5adb-42e1-b80b-f5a8c8a6a0b9",
   "metadata": {},
   "outputs": [],
   "source": []
  }
 ],
 "metadata": {
  "kernelspec": {
   "display_name": "Python 3 (ipykernel)",
   "language": "python",
   "name": "python3"
  },
  "language_info": {
   "codemirror_mode": {
    "name": "ipython",
    "version": 3
   },
   "file_extension": ".py",
   "mimetype": "text/x-python",
   "name": "python",
   "nbconvert_exporter": "python",
   "pygments_lexer": "ipython3",
   "version": "3.11.3"
  }
 },
 "nbformat": 4,
 "nbformat_minor": 5
}

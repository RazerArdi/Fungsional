{
 "cells": [
  {
   "cell_type": "code",
   "execution_count": 5,
   "id": "3058e99e-1a96-48dc-b199-b6de08143be3",
   "metadata": {},
   "outputs": [],
   "source": [
    "books = [\n",
    "    {'judul':'Pulang', 'penulis': 'Tere Liye', 'halaman': 400},\n",
    "    {'judul':'Kapan Nanti', 'penulis': 'Ziggy Z.', 'halaman': 142},\n",
    "    {'judul':'Namaku Alam', 'penulis': 'Leila S. Chudori', 'halaman': 448},\n",
    "    {'judul':'Origin', 'penulis': 'Dan Brown', 'halaman': 511},\n",
    "    {'judul':'Rumah Lebah', 'penulis': 'Ruwi Meita', 'halaman': 288},\n",
    "    {'judul':'Kubah', 'penulis': 'Ahmad Tohari', 'halaman': 184},\n",
    "    {'judul':'Dompet Ayah Sepatu Ibu', 'penulis': 'J. S. Khairen', 'halaman': 210},\n",
    "]"
   ]
  },
  {
   "cell_type": "code",
   "execution_count": 6,
   "id": "df0c4a14-2e52-4350-a6fa-c5ec588a6395",
   "metadata": {},
   "outputs": [
    {
     "name": "stdout",
     "output_type": "stream",
     "text": [
      "Judul: Kapan Nanti, Penulis: Ziggy Z., Halaman: 142\n",
      "Judul: Kubah, Penulis: Ahmad Tohari, Halaman: 184\n"
     ]
    }
   ],
   "source": [
    "# Fungsi untuk memfilter buku berdasarkan kriteria tertentu\n",
    "def book_filter(criteria_func):\n",
    "    return [book for book in books if criteria_func(book)]\n",
    "\n",
    "# Kriteria untuk judul buku yang berawalan 'K'\n",
    "def judul_awalan_K(book):\n",
    "    return book['judul'].startswith('K')\n",
    "\n",
    "# TODO 1: Gunakan list comprehension untuk menyaring buku dari books yang judulnya diawali dengan huruf 'K'\n",
    "filtered_books = book_filter(judul_awalan_K)\n",
    "\n",
    "# TODO 2, 3, 4: Cetak detail buku yang tersaring\n",
    "for book in filtered_books:\n",
    "    print(f\"Judul: {book['judul']}, Penulis: {book['penulis']}, Halaman: {book['halaman']}\")"
   ]
  },
  {
   "cell_type": "code",
   "execution_count": 7,
   "id": "ed517683-b74e-4f71-80a7-28df20458875",
   "metadata": {},
   "outputs": [
    {
     "name": "stdout",
     "output_type": "stream",
     "text": [
      "Pulang\n",
      "Kapan Nanti\n",
      "Namaku Alam\n",
      "Origin\n",
      "Rumah Lebah\n",
      "Kubah\n",
      "Dompet Ayah Sepatu Ibu\n"
     ]
    }
   ],
   "source": [
    "# TODO 1: Definisikan fungsi untuk mendapatkan judul buku\n",
    "def judul_buku(book):\n",
    "    return book['judul']  # TODO 2: Kembalikan judul dari setiap buku\n",
    "\n",
    "# TODO 3: Gunakan `map` untuk mendapatkan semua judul buku\n",
    "judul_buku_list = map(judul_buku, books)\n",
    "\n",
    "# TODO 4: Cetak judul buku dan gunakan loop untuk iterasi melalui hasil `judul_buku`\n",
    "for judul in judul_buku_list:\n",
    "    print(judul)"
   ]
  },
  {
   "cell_type": "code",
   "execution_count": 8,
   "id": "05d5c94a-5ac0-4d75-a0b2-e91a4b85bcd0",
   "metadata": {},
   "outputs": [
    {
     "name": "stdout",
     "output_type": "stream",
     "text": [
      "Judul: Pulang, Penulis: Tere Liye, Halaman: 400\n",
      "Judul: Namaku Alam, Penulis: Leila S. Chudori, Halaman: 448\n",
      "Judul: Origin, Penulis: Dan Brown, Halaman: 511\n",
      "Judul: Rumah Lebah, Penulis: Ruwi Meita, Halaman: 288\n",
      "Judul: Dompet Ayah Sepatu Ibu, Penulis: J. S. Khairen, Halaman: 210\n"
     ]
    }
   ],
   "source": [
    "# TODO 1: Definisikan fungsi untuk memeriksa jumlah halaman\n",
    "def lebih_200(book):\n",
    "    return book['halaman'] > 200  # TODO 2: Kembalikan True jika halaman lebih dari 200\n",
    "\n",
    "# TODO 3: Gunakan `filter` untuk menyaring buku\n",
    "books_200 = filter(lebih_200, books)\n",
    "\n",
    "# TODO 4: Cetak hasil dan gunakan loop untuk iterasi melalui hasil `books_200`\n",
    "for book in books_200:\n",
    "    print(f\"Judul: {book['judul']}, Penulis: {book['penulis']}, Halaman: {book['halaman']}\")\n"
   ]
  },
  {
   "cell_type": "code",
   "execution_count": 9,
   "id": "78c1a2cc-cba9-40c4-9d1e-dfcaa93728d2",
   "metadata": {},
   "outputs": [
    {
     "name": "stdout",
     "output_type": "stream",
     "text": [
      "Total Halaman: 2183\n"
     ]
    }
   ],
   "source": [
    "# TODO 1: Import modul yang diperlukan\n",
    "from functools import reduce\n",
    "\n",
    "# TODO 2: Definisikan fungsi untuk menghitung total halaman\n",
    "def hitung_halaman(total, book):\n",
    "    return total + book['halaman']  # TODO 3: Tambahkan halaman buku ke total\n",
    "\n",
    "# TODO 4: Gunakan `reduce` untuk menghitung total halaman\n",
    "total_halaman = reduce(hitung_halaman, books, 0)\n",
    "\n",
    "# TODO 5: Cetak total halaman\n",
    "print(f\"Total Halaman: {total_halaman}\")\n"
   ]
  }
 ],
 "metadata": {
  "kernelspec": {
   "display_name": "Python 3 (ipykernel)",
   "language": "python",
   "name": "python3"
  },
  "language_info": {
   "codemirror_mode": {
    "name": "ipython",
    "version": 3
   },
   "file_extension": ".py",
   "mimetype": "text/x-python",
   "name": "python",
   "nbconvert_exporter": "python",
   "pygments_lexer": "ipython3",
   "version": "3.11.3"
  }
 },
 "nbformat": 4,
 "nbformat_minor": 5
}

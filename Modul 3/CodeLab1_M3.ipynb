{
 "cells": [
  {
   "cell_type": "code",
   "execution_count": 5,
   "id": "fe9b8c51-2134-40e4-9a56-21b7be45ea2e",
   "metadata": {},
   "outputs": [],
   "source": [
    "def papan_catur(width, height):\n",
    "    # Menggunakan list comprehension untuk membuat pola catur\n",
    "    return [['x' if (j + i) % 2 else 'o' for i in range(width)] for j in range(height)]"
   ]
  },
  {
   "cell_type": "code",
   "execution_count": 6,
   "id": "31d10396-b90e-4538-ad43-a524cd30e059",
   "metadata": {},
   "outputs": [],
   "source": [
    "def print_formatted(matrix):\n",
    "    # Menggunakan f-string dan join untuk memformat output\n",
    "    formatted_output = \"[\\n\" + \"\\n\".join(\n",
    "        \"    [\" + \", \".join(f\"'{x}'\" for x in row) + \"]\" for row in matrix\n",
    "    ) + \"\\n]\"\n",
    "    print(formatted_output)"
   ]
  },
  {
   "cell_type": "code",
   "execution_count": 7,
   "id": "d9a6d139-b11c-4982-b435-d96ad5d9347e",
   "metadata": {},
   "outputs": [],
   "source": [
    "def ubah_pola(papan):\n",
    "    # Menggunakan list comprehension untuk mengubah pola\n",
    "    return [['+ ' if x == 'o' else '# ' for x in row] for row in papan]"
   ]
  },
  {
   "cell_type": "code",
   "execution_count": 9,
   "id": "9b9a5047-5748-4786-bec7-2ba4c8860eaf",
   "metadata": {},
   "outputs": [
    {
     "name": "stdout",
     "output_type": "stream",
     "text": [
      "[\n",
      "    ['o', 'x', 'o', 'x', 'o']\n",
      "    ['x', 'o', 'x', 'o', 'x']\n",
      "    ['o', 'x', 'o', 'x', 'o']\n",
      "    ['x', 'o', 'x', 'o', 'x']\n",
      "    ['o', 'x', 'o', 'x', 'o']\n",
      "]\n",
      "[\n",
      "    ['+ ', '# ', '+ ', '# ', '+ ']\n",
      "    ['# ', '+ ', '# ', '+ ', '# ']\n",
      "    ['+ ', '# ', '+ ', '# ', '+ ']\n",
      "    ['# ', '+ ', '# ', '+ ', '# ']\n",
      "    ['+ ', '# ', '+ ', '# ', '+ ']\n",
      "]\n"
     ]
    }
   ],
   "source": [
    "# Membuat papan catur ukuran 5x5\n",
    "papan = papan_catur(5, 5)\n",
    "print_formatted(papan)  # Cetak papan catur\n",
    "\n",
    "# Mengubah pola papan\n",
    "papan_baru = ubah_pola(papan)\n",
    "print_formatted(papan_baru)  # Cetak papan yang sudah diubah"
   ]
  },
  {
   "cell_type": "code",
   "execution_count": null,
   "id": "4964c2aa-9fd6-4ebe-b700-2d931130cf55",
   "metadata": {},
   "outputs": [],
   "source": []
  }
 ],
 "metadata": {
  "kernelspec": {
   "display_name": "Python 3 (ipykernel)",
   "language": "python",
   "name": "python3"
  },
  "language_info": {
   "codemirror_mode": {
    "name": "ipython",
    "version": 3
   },
   "file_extension": ".py",
   "mimetype": "text/x-python",
   "name": "python",
   "nbconvert_exporter": "python",
   "pygments_lexer": "ipython3",
   "version": "3.11.3"
  }
 },
 "nbformat": 4,
 "nbformat_minor": 5
}

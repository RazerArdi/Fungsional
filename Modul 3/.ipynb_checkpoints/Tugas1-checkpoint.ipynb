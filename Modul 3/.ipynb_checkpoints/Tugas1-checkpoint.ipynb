{
 "cells": [
  {
   "cell_type": "code",
   "execution_count": 7,
   "id": "94e0e55e-ed0c-452f-9140-8ca41588e8d6",
   "metadata": {},
   "outputs": [
    {
     "name": "stdout",
     "output_type": "stream",
     "text": [
      "[2, 10, 32, 88, 224]\n"
     ]
    }
   ],
   "source": [
    "def arithmetic_geometric_sequence(a, d, r, n, current =1, result=[]):\n",
    "    \"\"\"Menghasilkan baris aritmetika-geometri hingga suku ke-n.\"\"\"\n",
    "    if current > n:\n",
    "        return result  # Basis rekursif: Jika suku saat ini melebihi n, return hasil\n",
    "    # Hitung suku ke-current menggunakan rumus\n",
    "    term = (a + (current - 1) * d) * (r ** (current - 1))\n",
    "    return arithmetic_geometric_sequence(a, d, r, n, current + 1, result + [term])\n",
    "\n",
    "# Contoh penggunaan\n",
    "a = 2  # Suku pertama\n",
    "d = 3  # Beda aritmetika\n",
    "r = 2  # Rasio geometri\n",
    "n = 5  # Jumlah suku\n",
    "\n",
    "result = arithmetic_geometric_sequence(a, d, r, n)\n",
    "print(result)  # Output: [2, 10, 32, 88, 224]"
   ]
  },
  {
   "cell_type": "code",
   "execution_count": 12,
   "id": "e153cd4d-1fe9-4dfd-99f9-2cc7e23ef218",
   "metadata": {},
   "outputs": [
    {
     "name": "stdout",
     "output_type": "stream",
     "text": [
      "35\n"
     ]
    }
   ],
   "source": [
    "from functools import reduce\n",
    "\n",
    "# Fungsi deklaratif untuk penjumlahan dua bilangan\n",
    "def add(a, b):\n",
    "    return a + b\n",
    "\n",
    "# Hitung jumlah deret\n",
    "total = reduce(add, result)\n",
    "print(total)  # Output: 356"
   ]
  },
  {
   "cell_type": "code",
   "execution_count": null,
   "id": "091f437a-a5f6-4d1a-a39b-ab00dd680c3b",
   "metadata": {},
   "outputs": [],
   "source": []
  }
 ],
 "metadata": {
  "kernelspec": {
   "display_name": "Python 3 (ipykernel)",
   "language": "python",
   "name": "python3"
  },
  "language_info": {
   "codemirror_mode": {
    "name": "ipython",
    "version": 3
   },
   "file_extension": ".py",
   "mimetype": "text/x-python",
   "name": "python",
   "nbconvert_exporter": "python",
   "pygments_lexer": "ipython3",
   "version": "3.11.3"
  }
 },
 "nbformat": 4,
 "nbformat_minor": 5
}
